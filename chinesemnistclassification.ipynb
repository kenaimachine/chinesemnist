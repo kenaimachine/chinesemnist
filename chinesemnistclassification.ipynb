{
  "nbformat": 4,
  "nbformat_minor": 0,
  "metadata": {
    "colab": {
      "provenance": [],
      "toc_visible": true,
      "gpuType": "T4",
      "authorship_tag": "ABX9TyNVsXsZea3LyiYKbr0DE2xn",
      "include_colab_link": true
    },
    "kernelspec": {
      "name": "python3",
      "display_name": "Python 3"
    },
    "language_info": {
      "name": "python"
    },
    "accelerator": "GPU"
  },
  "cells": [
    {
      "cell_type": "markdown",
      "metadata": {
        "id": "view-in-github",
        "colab_type": "text"
      },
      "source": [
        "<a href=\"https://colab.research.google.com/github/kenaimachine/chinesemnist/blob/main/chinesemnistclassification.ipynb\" target=\"_parent\"><img src=\"https://colab.research.google.com/assets/colab-badge.svg\" alt=\"Open In Colab\"/></a>"
      ]
    },
    {
      "cell_type": "markdown",
      "source": [
        "# Image Classification Using Chinese Mnist Data"
      ],
      "metadata": {
        "id": "_FRKkUQTAwWY"
      }
    },
    {
      "cell_type": "code",
      "source": [
        "import os\n",
        "from google.colab import drive\n",
        "from pathlib import Path\n",
        "import torch\n",
        "import torchvision\n",
        "from torchvision import transforms as transforms\n",
        "import random\n",
        "from PIL import Image, ImageOps\n",
        "import matplotlib.pyplot as plt\n",
        "from tqdm import tqdm\n",
        "import pandas as pd\n",
        "import shutil\n",
        "import numpy as np\n",
        "import cv2\n",
        "\n",
        "import torch\n",
        "import torch.nn as nn"
      ],
      "metadata": {
        "id": "kMF3J_yA_a7u"
      },
      "execution_count": 1,
      "outputs": []
    },
    {
      "cell_type": "markdown",
      "source": [
        "**Reminder**\n",
        "\n",
        "In your google drive folder you will have the following directory structure set up:\n",
        "\n",
        "(structure is similar if running on local machine)\n",
        "```\n",
        "Directory Structure In Google Drive:\n",
        "MyDrive\n",
        "|\n",
        "+-- chinesemnist\n",
        "     |\n",
        "     +--data\n",
        "        |\n",
        "        +--chinesemnist.csv\n",
        "        +--model.pth\n",
        "        +--loss.png\n",
        "        +--accuracy.png\n",
        "        |\n",
        "        +--data\n",
        "        |  |\n",
        "        |  +--(original chinese mnist image data)\n",
        "        |   \n",
        "        +--selectedData\n",
        "        |  |\n",
        "        |  +--(required character images)\n",
        "        +--modelData\n",
        "           |\n",
        "           +--train\n",
        "           |   |\n",
        "           |   +--(folder of images by class)\n",
        "           +--valid\n",
        "           |   |\n",
        "           |   +--(folder of images by class)\n",
        "           +--test\n",
        "               |\n",
        "               +--images for testing\n",
        "\n",
        "```  \n",
        "* the original data downloaded from kaggle is in\n",
        "`chinesemnist/data/data`\n",
        "* data for only the required characters are in `chinesemnist/data/selectedData`\n",
        "* the split train test set can be found in `chinesemnist/data/modelData`\n",
        "\n",
        "----\n",
        "\n",
        "**TO START**\n",
        "\n",
        "1. Download from Kaggle:\n",
        "`https://www.kaggle.com/datasets/gpreda/chinese-mnist/download?datasetVersionNumber=7`\n",
        "\n",
        "2. Copy the folder 'chinesemnist' and upload to Google Dive or your local machine.\n",
        "\n",
        "3. Copy the `chinesemnistclassification.ipynb` to 'chinesemnist' folder.\n",
        "\n",
        "4. The creation of other directories and copying of images will be handled programmatically by `chinesemnistclassification.ipynb`.\n",
        "\n",
        "-----"
      ],
      "metadata": {
        "id": "So89Cu-P_-Zm"
      }
    },
    {
      "cell_type": "markdown",
      "source": [
        "**HOW TO USE**\n",
        "\n",
        "1. If you only have uploaded the images as per 'TO START' instruction:\n",
        "  * Just proceed to run all the jupyter notebook cells in sequential order.\n",
        "2. If you have already run the code to create all the folders and move the images (essentially complete PART1), you just need to :\n",
        "    * import the libraries and\n",
        "    * run 1.Initial Preparation\n",
        "    * skip everything else from 1.2 to 1.5.\n",
        "3. If you just wish to adjust the model and retrain the model, you need to:\n",
        "    * import the libraries\n",
        "    * run 1.Initial Preparation\n",
        "    * skip everything else from 1.2 to 1.5.\n",
        "    * run PART 2 and PART 3. Edit the code as required.\n",
        "3. If you wish to make only inferences on test data you need to:\n",
        "    * import the libraries\n",
        "    * run 1. Initial Preparation\n",
        "    * And eveything in PART 4.\n",
        "\n"
      ],
      "metadata": {
        "id": "cPqSqlNJ1kXP"
      }
    },
    {
      "cell_type": "markdown",
      "source": [
        "# PART 1: PROCESSING THE DATA"
      ],
      "metadata": {
        "id": "usiJqoOhE0xC"
      }
    },
    {
      "cell_type": "markdown",
      "source": [
        "## 1. Initial Preparation"
      ],
      "metadata": {
        "id": "jbXqPAF4BSOv"
      }
    },
    {
      "cell_type": "code",
      "source": [
        "def checkDirectoryAvailable(root_path):\n",
        "  if not os.path.exists(root_path):\n",
        "      os.makedirs(root_path)\n",
        "      print(f\"Directory '{root_path}' created.\")"
      ],
      "metadata": {
        "id": "QlhTgHNlBofG"
      },
      "execution_count": 2,
      "outputs": []
    },
    {
      "cell_type": "code",
      "execution_count": 3,
      "metadata": {
        "colab": {
          "base_uri": "https://localhost:8080/"
        },
        "id": "O83T57cW-cdA",
        "outputId": "ce7b5a54-95dd-4129-c57e-aa205e372e0f"
      },
      "outputs": [
        {
          "output_type": "stream",
          "name": "stdout",
          "text": [
            "Mounted at /content/drive\n",
            "/content/drive/MyDrive/chinesemnist/data/\n"
          ]
        }
      ],
      "source": [
        "def getRootDir():\n",
        "    if 'google.colab' in str(get_ipython()):\n",
        "        # Mount Google Drive in Colab\n",
        "        from google.colab import drive\n",
        "        drive.mount('/content/drive')\n",
        "        root_path= '/content/drive/MyDrive/chinesemnist/data/'  # Set your desired root directory in Google Drive\n",
        "        checkDirectoryAvailable(root_path)\n",
        "        return root_path\n",
        "    else:\n",
        "        # Set the directory of the Python file\n",
        "        cwd=os.getcwd()\n",
        "        # Use the current working directory\n",
        "        root_path=os.path.join(cwd, 'chinesemnist/data/')\n",
        "        checkDirectoryAvailable(root_path)\n",
        "        return root_path\n",
        "\n",
        "# Get the root directory\n",
        "root_dir = getRootDir()\n",
        "\n",
        "print(root_dir)\n",
        "\n",
        "\n"
      ]
    },
    {
      "cell_type": "code",
      "source": [
        "full_dataset = torchvision.datasets.ImageFolder(root=root_dir )\n",
        "full_dataset"
      ],
      "metadata": {
        "colab": {
          "base_uri": "https://localhost:8080/"
        },
        "id": "Po22RjffkKvp",
        "outputId": "1eea2782-ef1a-4a6f-e795-2eb0c4d02f1c"
      },
      "execution_count": 180,
      "outputs": [
        {
          "output_type": "execute_result",
          "data": {
            "text/plain": [
              "Dataset ImageFolder\n",
              "    Number of datapoints: 15000\n",
              "    Root location: /content/drive/MyDrive/chinesemnist/data/"
            ]
          },
          "metadata": {},
          "execution_count": 180
        }
      ]
    },
    {
      "cell_type": "code",
      "source": [
        "# View the images\n",
        "image_paths=full_dataset.imgs\n",
        "\n",
        "fig, axs = plt.subplots(4, 4, figsize=(12, 6))\n",
        "fig.tight_layout()\n",
        "\n",
        "for row in axs:\n",
        "    for col in row:\n",
        "        img,_=random.choice(image_paths)\n",
        "        #print(img)\n",
        "        image=plt.imread(img)\n",
        "        col.imshow(image)\n",
        "        col.axis('off')"
      ],
      "metadata": {
        "colab": {
          "base_uri": "https://localhost:8080/",
          "height": 576
        },
        "id": "C-nKHCY6P6ph",
        "outputId": "e21821ad-adea-41b7-ae98-fa8e106d44f2"
      },
      "execution_count": 181,
      "outputs": [
        {
          "output_type": "display_data",
          "data": {
            "text/plain": [
              "<Figure size 1200x600 with 16 Axes>"
            ],
            "image/png": "[encoded data removed]"
          },
          "metadata": {}
        }
      ]
    },
    {
      "cell_type": "markdown",
      "source": [
        "## 2. Data Cleaning, Data Quality, Data Exploration"
      ],
      "metadata": {
        "id": "W_mCC7R6H-xA"
      }
    },
    {
      "cell_type": "code",
      "source": [
        "#allowed_file(str(next(Path(root_dir+'data/').iterdir())))"
      ],
      "metadata": {
        "id": "_k0yzs0ISiud"
      },
      "execution_count": 62,
      "outputs": []
    },
    {
      "cell_type": "markdown",
      "source": [
        "### 1.1 Find Total Number Of Images"
      ],
      "metadata": {
        "id": "no6VPgp4Bjsv"
      }
    },
    {
      "cell_type": "code",
      "source": [
        "#check for files that have the right image extensions\n",
        "ALLOWED_EXTENSIONS = {\"jpg\", \"jpeg\", \"png\", \"bmp\", \"gif\", \"tiff\"}\n",
        "\n",
        "def allowed_file(filename):\n",
        "    #print(filename.rsplit('.', 1)[1].lower())\n",
        "    return '.' in filename and \\\n",
        "           filename.rsplit('.', 1)[1].lower() in ALLOWED_EXTENSIONS"
      ],
      "metadata": {
        "id": "4ZQoJc7PR8d9"
      },
      "execution_count": 182,
      "outputs": []
    },
    {
      "cell_type": "code",
      "source": [
        "def getTotalNumberImages():\n",
        "  count=0\n",
        "  #get total number of images\n",
        "  for imagePath in Path(root_dir+'data/').iterdir():\n",
        "    #print(imagePath)\n",
        "    if imagePath.is_file() and allowed_file(str(imagePath)):\n",
        "      count+=1\n",
        "      #print('its an image')\n",
        "  return count\n",
        "\n",
        "print('Total Number of Images =', getTotalNumberImages())\n"
      ],
      "metadata": {
        "colab": {
          "base_uri": "https://localhost:8080/"
        },
        "id": "_jQ8EEt0QO53",
        "outputId": "babe8a38-e2b3-4ef3-e806-8470e4495e0b"
      },
      "execution_count": 183,
      "outputs": [
        {
          "output_type": "stream",
          "name": "stdout",
          "text": [
            "Total Number of Images = 15000\n"
          ]
        }
      ]
    },
    {
      "cell_type": "code",
      "source": [
        "#Check the size of images and image dimensions\n",
        "#cannot do this by visual inspection due to 15k number of images.\n",
        "\n",
        "\n",
        "def checkImageSizeAndChannels(dirPath):\n",
        "    \"\"\"get the size of images and image dimensions (ie. the channels).\n",
        "\n",
        "    Args:\n",
        "        dirPath (str): the root dir appended with sub-directory holding the data\n",
        "\n",
        "    Returns:\n",
        "        pandas dataframe: summary statistics of dataframe with width, height and channels.\n",
        "    \"\"\"\n",
        "\n",
        "  arr=np.empty((0,3))\n",
        "  for imagePath in tqdm([*Path(dirPath).iterdir()]):\n",
        "    #get width and height of each image\n",
        "    img=Image.open(str(imagePath))\n",
        "    width,height=img.size\n",
        "    #dim=np.array(img).shape[-1]\n",
        "    dim=img.mode\n",
        "\n",
        "    #print(width, height)\n",
        "    arr=np.append(arr,np.array([[width,height, dim]]),axis=0)\n",
        "\n",
        "  return pd.DataFrame(arr, columns=['width', 'height', 'channels']).describe(include='all')\n",
        "\n",
        "checkImageSizeAndChannels(root_dir+'data/')"
      ],
      "metadata": {
        "colab": {
          "base_uri": "https://localhost:8080/",
          "height": 187
        },
        "id": "MeYL0Jfia0GQ",
        "outputId": "0db828a6-48c1-499c-93ba-a9c69f75d74c"
      },
      "execution_count": 184,
      "outputs": [
        {
          "output_type": "stream",
          "name": "stderr",
          "text": [
            "100%|██████████| 15000/15000 [00:38<00:00, 385.41it/s]\n"
          ]
        },
        {
          "output_type": "execute_result",
          "data": {
            "text/plain": [
              "        width height channels\n",
              "count   15000  15000    15000\n",
              "unique      1      1        1\n",
              "top        64     64        L\n",
              "freq    15000  15000    15000"
            ],
            "text/html": [
              "\n",
              "  <div id=\"df-45a7df45-e348-4dda-b5c9-622f25041b4e\">\n",
              "    <div class=\"colab-df-container\">\n",
              "      <div>\n",
              "<style scoped>\n",
              "    .dataframe tbody tr th:only-of-type {\n",
              "        vertical-align: middle;\n",
              "    }\n",
              "\n",
              "    .dataframe tbody tr th {\n",
              "        vertical-align: top;\n",
              "    }\n",
              "\n",
              "    .dataframe thead th {\n",
              "        text-align: right;\n",
              "    }\n",
              "</style>\n",
              "<table border=\"1\" class=\"dataframe\">\n",
              "  <thead>\n",
              "    <tr style=\"text-align: right;\">\n",
              "      <th></th>\n",
              "      <th>width</th>\n",
              "      <th>height</th>\n",
              "      <th>channels</th>\n",
              "    </tr>\n",
              "  </thead>\n",
              "  <tbody>\n",
              "    <tr>\n",
              "      <th>count</th>\n",
              "      <td>15000</td>\n",
              "      <td>15000</td>\n",
              "      <td>15000</td>\n",
              "    </tr>\n",
              "    <tr>\n",
              "      <th>unique</th>\n",
              "      <td>1</td>\n",
              "      <td>1</td>\n",
              "      <td>1</td>\n",
              "    </tr>\n",
              "    <tr>\n",
              "      <th>top</th>\n",
              "      <td>64</td>\n",
              "      <td>64</td>\n",
              "      <td>L</td>\n",
              "    </tr>\n",
              "    <tr>\n",
              "      <th>freq</th>\n",
              "      <td>15000</td>\n",
              "      <td>15000</td>\n",
              "      <td>15000</td>\n",
              "    </tr>\n",
              "  </tbody>\n",
              "</table>\n",
              "</div>\n",
              "      <button class=\"colab-df-convert\" onclick=\"convertToInteractive('df-45a7df45-e348-4dda-b5c9-622f25041b4e')\"\n",
              "              title=\"Convert this dataframe to an interactive table.\"\n",
              "              style=\"display:none;\">\n",
              "        \n",
              "  <svg xmlns=\"http://www.w3.org/2000/svg\" height=\"24px\"viewBox=\"0 0 24 24\"\n",
              "       width=\"24px\">\n",
              "    <path d=\"M0 0h24v24H0V0z\" fill=\"none\"/>\n",
              "    <path d=\"M18.56 5.44l.94 2.06.94-2.06 2.06-.94-2.06-.94-.94-2.06-.94 2.06-2.06.94zm-11 1L8.5 8.5l.94-2.06 2.06-.94-2.06-.94L8.5 2.5l-.94 2.06-2.06.94zm10 10l.94 2.06.94-2.06 2.06-.94-2.06-.94-.94-2.06-.94 2.06-2.06.94z\"/><path d=\"M17.41 7.96l-1.37-1.37c-.4-.4-.92-.59-1.43-.59-.52 0-1.04.2-1.43.59L10.3 9.45l-7.72 7.72c-.78.78-.78 2.05 0 2.83L4 21.41c.39.39.9.59 1.41.59.51 0 1.02-.2 1.41-.59l7.78-7.78 2.81-2.81c.8-.78.8-2.07 0-2.86zM5.41 20L4 18.59l7.72-7.72 1.47 1.35L5.41 20z\"/>\n",
              "  </svg>\n",
              "      </button>\n",
              "      \n",
              "  <style>\n",
              "    .colab-df-container {\n",
              "      display:flex;\n",
              "      flex-wrap:wrap;\n",
              "      gap: 12px;\n",
              "    }\n",
              "\n",
              "    .colab-df-convert {\n",
              "      background-color: #E8F0FE;\n",
              "      border: none;\n",
              "      border-radius: 50%;\n",
              "      cursor: pointer;\n",
              "      display: none;\n",
              "      fill: #1967D2;\n",
              "      height: 32px;\n",
              "      padding: 0 0 0 0;\n",
              "      width: 32px;\n",
              "    }\n",
              "\n",
              "    .colab-df-convert:hover {\n",
              "      background-color: #E2EBFA;\n",
              "      box-shadow: 0px 1px 2px rgba(60, 64, 67, 0.3), 0px 1px 3px 1px rgba(60, 64, 67, 0.15);\n",
              "      fill: #174EA6;\n",
              "    }\n",
              "\n",
              "    [theme=dark] .colab-df-convert {\n",
              "      background-color: #3B4455;\n",
              "      fill: #D2E3FC;\n",
              "    }\n",
              "\n",
              "    [theme=dark] .colab-df-convert:hover {\n",
              "      background-color: #434B5C;\n",
              "      box-shadow: 0px 1px 3px 1px rgba(0, 0, 0, 0.15);\n",
              "      filter: drop-shadow(0px 1px 2px rgba(0, 0, 0, 0.3));\n",
              "      fill: #FFFFFF;\n",
              "    }\n",
              "  </style>\n",
              "\n",
              "      <script>\n",
              "        const buttonEl =\n",
              "          document.querySelector('#df-45a7df45-e348-4dda-b5c9-622f25041b4e button.colab-df-convert');\n",
              "        buttonEl.style.display =\n",
              "          google.colab.kernel.accessAllowed ? 'block' : 'none';\n",
              "\n",
              "        async function convertToInteractive(key) {\n",
              "          const element = document.querySelector('#df-45a7df45-e348-4dda-b5c9-622f25041b4e');\n",
              "          const dataTable =\n",
              "            await google.colab.kernel.invokeFunction('convertToInteractive',\n",
              "                                                     [key], {});\n",
              "          if (!dataTable) return;\n",
              "\n",
              "          const docLinkHtml = 'Like what you see? Visit the ' +\n",
              "            '<a target=\"_blank\" href=https://colab.research.google.com/notebooks/data_table.ipynb>data table notebook</a>'\n",
              "            + ' to learn more about interactive tables.';\n",
              "          element.innerHTML = '';\n",
              "          dataTable['output_type'] = 'display_data';\n",
              "          await google.colab.output.renderOutput(dataTable, element);\n",
              "          const docLink = document.createElement('div');\n",
              "          docLink.innerHTML = docLinkHtml;\n",
              "          element.appendChild(docLink);\n",
              "        }\n",
              "      </script>\n",
              "    </div>\n",
              "  </div>\n",
              "  "
            ]
          },
          "metadata": {},
          "execution_count": 184
        }
      ]
    },
    {
      "cell_type": "markdown",
      "source": [
        "**Summary:**\n",
        "* 15000 images\n",
        "* each image size 64x64\n",
        "* every image is grayscale"
      ],
      "metadata": {
        "id": "QjzpxYb0lp99"
      }
    },
    {
      "cell_type": "markdown",
      "source": [
        "### 1.2 Load And Explore chinese_mnist.csv"
      ],
      "metadata": {
        "id": "iMSoR9GICAkp"
      }
    },
    {
      "cell_type": "code",
      "source": [
        "#get a quick view the chinese_mnist.csv\n",
        "#read the csv using pandas\n",
        "data_df=pd.read_csv(root_dir+'chinese_mnist.csv')\n",
        "data_df.head()\n",
        "\n"
      ],
      "metadata": {
        "colab": {
          "base_uri": "https://localhost:8080/",
          "height": 201
        },
        "id": "IcU0hc3zb5z8",
        "outputId": "5dd956c6-b7e4-4468-8e65-17c4a396b25b"
      },
      "execution_count": 185,
      "outputs": [
        {
          "output_type": "execute_result",
          "data": {
            "text/plain": [
              "   suite_id  sample_id  code  value character\n",
              "0         1          1    10      9         九\n",
              "1         1         10    10      9         九\n",
              "2         1          2    10      9         九\n",
              "3         1          3    10      9         九\n",
              "4         1          4    10      9         九"
            ],
            "text/html": [
              "\n",
              "  <div id=\"df-9dbdb200-9611-4ab4-962f-18347a8a6264\">\n",
              "    <div class=\"colab-df-container\">\n",
              "      <div>\n",
              "<style scoped>\n",
              "    .dataframe tbody tr th:only-of-type {\n",
              "        vertical-align: middle;\n",
              "    }\n",
              "\n",
              "    .dataframe tbody tr th {\n",
              "        vertical-align: top;\n",
              "    }\n",
              "\n",
              "    .dataframe thead th {\n",
              "        text-align: right;\n",
              "    }\n",
              "</style>\n",
              "<table border=\"1\" class=\"dataframe\">\n",
              "  <thead>\n",
              "    <tr style=\"text-align: right;\">\n",
              "      <th></th>\n",
              "      <th>suite_id</th>\n",
              "      <th>sample_id</th>\n",
              "      <th>code</th>\n",
              "      <th>value</th>\n",
              "      <th>character</th>\n",
              "    </tr>\n",
              "  </thead>\n",
              "  <tbody>\n",
              "    <tr>\n",
              "      <th>0</th>\n",
              "      <td>1</td>\n",
              "      <td>1</td>\n",
              "      <td>10</td>\n",
              "      <td>9</td>\n",
              "      <td>九</td>\n",
              "    </tr>\n",
              "    <tr>\n",
              "      <th>1</th>\n",
              "      <td>1</td>\n",
              "      <td>10</td>\n",
              "      <td>10</td>\n",
              "      <td>9</td>\n",
              "      <td>九</td>\n",
              "    </tr>\n",
              "    <tr>\n",
              "      <th>2</th>\n",
              "      <td>1</td>\n",
              "      <td>2</td>\n",
              "      <td>10</td>\n",
              "      <td>9</td>\n",
              "      <td>九</td>\n",
              "    </tr>\n",
              "    <tr>\n",
              "      <th>3</th>\n",
              "      <td>1</td>\n",
              "      <td>3</td>\n",
              "      <td>10</td>\n",
              "      <td>9</td>\n",
              "      <td>九</td>\n",
              "    </tr>\n",
              "    <tr>\n",
              "      <th>4</th>\n",
              "      <td>1</td>\n",
              "      <td>4</td>\n",
              "      <td>10</td>\n",
              "      <td>9</td>\n",
              "      <td>九</td>\n",
              "    </tr>\n",
              "  </tbody>\n",
              "</table>\n",
              "</div>\n",
              "      <button class=\"colab-df-convert\" onclick=\"convertToInteractive('df-9dbdb200-9611-4ab4-962f-18347a8a6264')\"\n",
              "              title=\"Convert this dataframe to an interactive table.\"\n",
              "              style=\"display:none;\">\n",
              "        \n",
              "  <svg xmlns=\"http://www.w3.org/2000/svg\" height=\"24px\"viewBox=\"0 0 24 24\"\n",
              "       width=\"24px\">\n",
              "    <path d=\"M0 0h24v24H0V0z\" fill=\"none\"/>\n",
              "    <path d=\"M18.56 5.44l.94 2.06.94-2.06 2.06-.94-2.06-.94-.94-2.06-.94 2.06-2.06.94zm-11 1L8.5 8.5l.94-2.06 2.06-.94-2.06-.94L8.5 2.5l-.94 2.06-2.06.94zm10 10l.94 2.06.94-2.06 2.06-.94-2.06-.94-.94-2.06-.94 2.06-2.06.94z\"/><path d=\"M17.41 7.96l-1.37-1.37c-.4-.4-.92-.59-1.43-.59-.52 0-1.04.2-1.43.59L10.3 9.45l-7.72 7.72c-.78.78-.78 2.05 0 2.83L4 21.41c.39.39.9.59 1.41.59.51 0 1.02-.2 1.41-.59l7.78-7.78 2.81-2.81c.8-.78.8-2.07 0-2.86zM5.41 20L4 18.59l7.72-7.72 1.47 1.35L5.41 20z\"/>\n",
              "  </svg>\n",
              "      </button>\n",
              "      \n",
              "  <style>\n",
              "    .colab-df-container {\n",
              "      display:flex;\n",
              "      flex-wrap:wrap;\n",
              "      gap: 12px;\n",
              "    }\n",
              "\n",
              "    .colab-df-convert {\n",
              "      background-color: #E8F0FE;\n",
              "      border: none;\n",
              "      border-radius: 50%;\n",
              "      cursor: pointer;\n",
              "      display: none;\n",
              "      fill: #1967D2;\n",
              "      height: 32px;\n",
              "      padding: 0 0 0 0;\n",
              "      width: 32px;\n",
              "    }\n",
              "\n",
              "    .colab-df-convert:hover {\n",
              "      background-color: #E2EBFA;\n",
              "      box-shadow: 0px 1px 2px rgba(60, 64, 67, 0.3), 0px 1px 3px 1px rgba(60, 64, 67, 0.15);\n",
              "      fill: #174EA6;\n",
              "    }\n",
              "\n",
              "    [theme=dark] .colab-df-convert {\n",
              "      background-color: #3B4455;\n",
              "      fill: #D2E3FC;\n",
              "    }\n",
              "\n",
              "    [theme=dark] .colab-df-convert:hover {\n",
              "      background-color: #434B5C;\n",
              "      box-shadow: 0px 1px 3px 1px rgba(0, 0, 0, 0.15);\n",
              "      filter: drop-shadow(0px 1px 2px rgba(0, 0, 0, 0.3));\n",
              "      fill: #FFFFFF;\n",
              "    }\n",
              "  </style>\n",
              "\n",
              "      <script>\n",
              "        const buttonEl =\n",
              "          document.querySelector('#df-9dbdb200-9611-4ab4-962f-18347a8a6264 button.colab-df-convert');\n",
              "        buttonEl.style.display =\n",
              "          google.colab.kernel.accessAllowed ? 'block' : 'none';\n",
              "\n",
              "        async function convertToInteractive(key) {\n",
              "          const element = document.querySelector('#df-9dbdb200-9611-4ab4-962f-18347a8a6264');\n",
              "          const dataTable =\n",
              "            await google.colab.kernel.invokeFunction('convertToInteractive',\n",
              "                                                     [key], {});\n",
              "          if (!dataTable) return;\n",
              "\n",
              "          const docLinkHtml = 'Like what you see? Visit the ' +\n",
              "            '<a target=\"_blank\" href=https://colab.research.google.com/notebooks/data_table.ipynb>data table notebook</a>'\n",
              "            + ' to learn more about interactive tables.';\n",
              "          element.innerHTML = '';\n",
              "          dataTable['output_type'] = 'display_data';\n",
              "          await google.colab.output.renderOutput(dataTable, element);\n",
              "          const docLink = document.createElement('div');\n",
              "          docLink.innerHTML = docLinkHtml;\n",
              "          element.appendChild(docLink);\n",
              "        }\n",
              "      </script>\n",
              "    </div>\n",
              "  </div>\n",
              "  "
            ]
          },
          "metadata": {},
          "execution_count": 185
        }
      ]
    },
    {
      "cell_type": "code",
      "source": [
        "print(data_df.shape)\n",
        "data_df.info()\n"
      ],
      "metadata": {
        "colab": {
          "base_uri": "https://localhost:8080/"
        },
        "id": "xC1-6oetcp4S",
        "outputId": "37722780-dcc7-4ea5-b470-2f04f03d3909"
      },
      "execution_count": 186,
      "outputs": [
        {
          "output_type": "stream",
          "name": "stdout",
          "text": [
            "(15000, 5)\n",
            "<class 'pandas.core.frame.DataFrame'>\n",
            "RangeIndex: 15000 entries, 0 to 14999\n",
            "Data columns (total 5 columns):\n",
            " #   Column     Non-Null Count  Dtype \n",
            "---  ------     --------------  ----- \n",
            " 0   suite_id   15000 non-null  int64 \n",
            " 1   sample_id  15000 non-null  int64 \n",
            " 2   code       15000 non-null  int64 \n",
            " 3   value      15000 non-null  int64 \n",
            " 4   character  15000 non-null  object\n",
            "dtypes: int64(4), object(1)\n",
            "memory usage: 586.1+ KB\n"
          ]
        }
      ]
    },
    {
      "cell_type": "markdown",
      "source": [
        "#### Descriptive Stats Of Data"
      ],
      "metadata": {
        "id": "Um-gMtdMDqhH"
      }
    },
    {
      "cell_type": "code",
      "source": [
        "data_df.describe()"
      ],
      "metadata": {
        "colab": {
          "base_uri": "https://localhost:8080/",
          "height": 291
        },
        "id": "nj8rMBjYc4Xa",
        "outputId": "47f11cfd-8b4e-4c15-e9d6-2401f03939ed"
      },
      "execution_count": 187,
      "outputs": [
        {
          "output_type": "execute_result",
          "data": {
            "text/plain": [
              "           suite_id     sample_id          code         value\n",
              "count  15000.000000  15000.000000  15000.000000  1.500000e+04\n",
              "mean      50.500000      5.500000      8.000000  6.667410e+06\n",
              "std       28.867032      2.872377      4.320638  2.494502e+07\n",
              "min        1.000000      1.000000      1.000000  0.000000e+00\n",
              "25%       25.750000      3.000000      4.000000  3.000000e+00\n",
              "50%       50.500000      5.500000      8.000000  7.000000e+00\n",
              "75%       75.250000      8.000000     12.000000  1.000000e+02\n",
              "max      100.000000     10.000000     15.000000  1.000000e+08"
            ],
            "text/html": [
              "\n",
              "  <div id=\"df-0e49e48c-05aa-4c87-9637-bf5bfc58c26f\">\n",
              "    <div class=\"colab-df-container\">\n",
              "      <div>\n",
              "<style scoped>\n",
              "    .dataframe tbody tr th:only-of-type {\n",
              "        vertical-align: middle;\n",
              "    }\n",
              "\n",
              "    .dataframe tbody tr th {\n",
              "        vertical-align: top;\n",
              "    }\n",
              "\n",
              "    .dataframe thead th {\n",
              "        text-align: right;\n",
              "    }\n",
              "</style>\n",
              "<table border=\"1\" class=\"dataframe\">\n",
              "  <thead>\n",
              "    <tr style=\"text-align: right;\">\n",
              "      <th></th>\n",
              "      <th>suite_id</th>\n",
              "      <th>sample_id</th>\n",
              "      <th>code</th>\n",
              "      <th>value</th>\n",
              "    </tr>\n",
              "  </thead>\n",
              "  <tbody>\n",
              "    <tr>\n",
              "      <th>count</th>\n",
              "      <td>15000.000000</td>\n",
              "      <td>15000.000000</td>\n",
              "      <td>15000.000000</td>\n",
              "      <td>1.500000e+04</td>\n",
              "    </tr>\n",
              "    <tr>\n",
              "      <th>mean</th>\n",
              "      <td>50.500000</td>\n",
              "      <td>5.500000</td>\n",
              "      <td>8.000000</td>\n",
              "      <td>6.667410e+06</td>\n",
              "    </tr>\n",
              "    <tr>\n",
              "      <th>std</th>\n",
              "      <td>28.867032</td>\n",
              "      <td>2.872377</td>\n",
              "      <td>4.320638</td>\n",
              "      <td>2.494502e+07</td>\n",
              "    </tr>\n",
              "    <tr>\n",
              "      <th>min</th>\n",
              "      <td>1.000000</td>\n",
              "      <td>1.000000</td>\n",
              "      <td>1.000000</td>\n",
              "      <td>0.000000e+00</td>\n",
              "    </tr>\n",
              "    <tr>\n",
              "      <th>25%</th>\n",
              "      <td>25.750000</td>\n",
              "      <td>3.000000</td>\n",
              "      <td>4.000000</td>\n",
              "      <td>3.000000e+00</td>\n",
              "    </tr>\n",
              "    <tr>\n",
              "      <th>50%</th>\n",
              "      <td>50.500000</td>\n",
              "      <td>5.500000</td>\n",
              "      <td>8.000000</td>\n",
              "      <td>7.000000e+00</td>\n",
              "    </tr>\n",
              "    <tr>\n",
              "      <th>75%</th>\n",
              "      <td>75.250000</td>\n",
              "      <td>8.000000</td>\n",
              "      <td>12.000000</td>\n",
              "      <td>1.000000e+02</td>\n",
              "    </tr>\n",
              "    <tr>\n",
              "      <th>max</th>\n",
              "      <td>100.000000</td>\n",
              "      <td>10.000000</td>\n",
              "      <td>15.000000</td>\n",
              "      <td>1.000000e+08</td>\n",
              "    </tr>\n",
              "  </tbody>\n",
              "</table>\n",
              "</div>\n",
              "      <button class=\"colab-df-convert\" onclick=\"convertToInteractive('df-0e49e48c-05aa-4c87-9637-bf5bfc58c26f')\"\n",
              "              title=\"Convert this dataframe to an interactive table.\"\n",
              "              style=\"display:none;\">\n",
              "        \n",
              "  <svg xmlns=\"http://www.w3.org/2000/svg\" height=\"24px\"viewBox=\"0 0 24 24\"\n",
              "       width=\"24px\">\n",
              "    <path d=\"M0 0h24v24H0V0z\" fill=\"none\"/>\n",
              "    <path d=\"M18.56 5.44l.94 2.06.94-2.06 2.06-.94-2.06-.94-.94-2.06-.94 2.06-2.06.94zm-11 1L8.5 8.5l.94-2.06 2.06-.94-2.06-.94L8.5 2.5l-.94 2.06-2.06.94zm10 10l.94 2.06.94-2.06 2.06-.94-2.06-.94-.94-2.06-.94 2.06-2.06.94z\"/><path d=\"M17.41 7.96l-1.37-1.37c-.4-.4-.92-.59-1.43-.59-.52 0-1.04.2-1.43.59L10.3 9.45l-7.72 7.72c-.78.78-.78 2.05 0 2.83L4 21.41c.39.39.9.59 1.41.59.51 0 1.02-.2 1.41-.59l7.78-7.78 2.81-2.81c.8-.78.8-2.07 0-2.86zM5.41 20L4 18.59l7.72-7.72 1.47 1.35L5.41 20z\"/>\n",
              "  </svg>\n",
              "      </button>\n",
              "      \n",
              "  <style>\n",
              "    .colab-df-container {\n",
              "      display:flex;\n",
              "      flex-wrap:wrap;\n",
              "      gap: 12px;\n",
              "    }\n",
              "\n",
              "    .colab-df-convert {\n",
              "      background-color: #E8F0FE;\n",
              "      border: none;\n",
              "      border-radius: 50%;\n",
              "      cursor: pointer;\n",
              "      display: none;\n",
              "      fill: #1967D2;\n",
              "      height: 32px;\n",
              "      padding: 0 0 0 0;\n",
              "      width: 32px;\n",
              "    }\n",
              "\n",
              "    .colab-df-convert:hover {\n",
              "      background-color: #E2EBFA;\n",
              "      box-shadow: 0px 1px 2px rgba(60, 64, 67, 0.3), 0px 1px 3px 1px rgba(60, 64, 67, 0.15);\n",
              "      fill: #174EA6;\n",
              "    }\n",
              "\n",
              "    [theme=dark] .colab-df-convert {\n",
              "      background-color: #3B4455;\n",
              "      fill: #D2E3FC;\n",
              "    }\n",
              "\n",
              "    [theme=dark] .colab-df-convert:hover {\n",
              "      background-color: #434B5C;\n",
              "      box-shadow: 0px 1px 3px 1px rgba(0, 0, 0, 0.15);\n",
              "      filter: drop-shadow(0px 1px 2px rgba(0, 0, 0, 0.3));\n",
              "      fill: #FFFFFF;\n",
              "    }\n",
              "  </style>\n",
              "\n",
              "      <script>\n",
              "        const buttonEl =\n",
              "          document.querySelector('#df-0e49e48c-05aa-4c87-9637-bf5bfc58c26f button.colab-df-convert');\n",
              "        buttonEl.style.display =\n",
              "          google.colab.kernel.accessAllowed ? 'block' : 'none';\n",
              "\n",
              "        async function convertToInteractive(key) {\n",
              "          const element = document.querySelector('#df-0e49e48c-05aa-4c87-9637-bf5bfc58c26f');\n",
              "          const dataTable =\n",
              "            await google.colab.kernel.invokeFunction('convertToInteractive',\n",
              "                                                     [key], {});\n",
              "          if (!dataTable) return;\n",
              "\n",
              "          const docLinkHtml = 'Like what you see? Visit the ' +\n",
              "            '<a target=\"_blank\" href=https://colab.research.google.com/notebooks/data_table.ipynb>data table notebook</a>'\n",
              "            + ' to learn more about interactive tables.';\n",
              "          element.innerHTML = '';\n",
              "          dataTable['output_type'] = 'display_data';\n",
              "          await google.colab.output.renderOutput(dataTable, element);\n",
              "          const docLink = document.createElement('div');\n",
              "          docLink.innerHTML = docLinkHtml;\n",
              "          element.appendChild(docLink);\n",
              "        }\n",
              "      </script>\n",
              "    </div>\n",
              "  </div>\n",
              "  "
            ]
          },
          "metadata": {},
          "execution_count": 187
        }
      ]
    },
    {
      "cell_type": "code",
      "source": [
        "data_df.describe(include='O')"
      ],
      "metadata": {
        "colab": {
          "base_uri": "https://localhost:8080/",
          "height": 170
        },
        "id": "ZIDNMMsfctDl",
        "outputId": "4445fc4c-53bb-4d86-b7cd-e7cf95dab1f4"
      },
      "execution_count": 188,
      "outputs": [
        {
          "output_type": "execute_result",
          "data": {
            "text/plain": [
              "       character\n",
              "count      15000\n",
              "unique        15\n",
              "top            九\n",
              "freq        1000"
            ],
            "text/html": [
              "\n",
              "  <div id=\"df-a06a15e5-b769-4329-9580-a3c256c0d900\">\n",
              "    <div class=\"colab-df-container\">\n",
              "      <div>\n",
              "<style scoped>\n",
              "    .dataframe tbody tr th:only-of-type {\n",
              "        vertical-align: middle;\n",
              "    }\n",
              "\n",
              "    .dataframe tbody tr th {\n",
              "        vertical-align: top;\n",
              "    }\n",
              "\n",
              "    .dataframe thead th {\n",
              "        text-align: right;\n",
              "    }\n",
              "</style>\n",
              "<table border=\"1\" class=\"dataframe\">\n",
              "  <thead>\n",
              "    <tr style=\"text-align: right;\">\n",
              "      <th></th>\n",
              "      <th>character</th>\n",
              "    </tr>\n",
              "  </thead>\n",
              "  <tbody>\n",
              "    <tr>\n",
              "      <th>count</th>\n",
              "      <td>15000</td>\n",
              "    </tr>\n",
              "    <tr>\n",
              "      <th>unique</th>\n",
              "      <td>15</td>\n",
              "    </tr>\n",
              "    <tr>\n",
              "      <th>top</th>\n",
              "      <td>九</td>\n",
              "    </tr>\n",
              "    <tr>\n",
              "      <th>freq</th>\n",
              "      <td>1000</td>\n",
              "    </tr>\n",
              "  </tbody>\n",
              "</table>\n",
              "</div>\n",
              "      <button class=\"colab-df-convert\" onclick=\"convertToInteractive('df-a06a15e5-b769-4329-9580-a3c256c0d900')\"\n",
              "              title=\"Convert this dataframe to an interactive table.\"\n",
              "              style=\"display:none;\">\n",
              "        \n",
              "  <svg xmlns=\"http://www.w3.org/2000/svg\" height=\"24px\"viewBox=\"0 0 24 24\"\n",
              "       width=\"24px\">\n",
              "    <path d=\"M0 0h24v24H0V0z\" fill=\"none\"/>\n",
              "    <path d=\"M18.56 5.44l.94 2.06.94-2.06 2.06-.94-2.06-.94-.94-2.06-.94 2.06-2.06.94zm-11 1L8.5 8.5l.94-2.06 2.06-.94-2.06-.94L8.5 2.5l-.94 2.06-2.06.94zm10 10l.94 2.06.94-2.06 2.06-.94-2.06-.94-.94-2.06-.94 2.06-2.06.94z\"/><path d=\"M17.41 7.96l-1.37-1.37c-.4-.4-.92-.59-1.43-.59-.52 0-1.04.2-1.43.59L10.3 9.45l-7.72 7.72c-.78.78-.78 2.05 0 2.83L4 21.41c.39.39.9.59 1.41.59.51 0 1.02-.2 1.41-.59l7.78-7.78 2.81-2.81c.8-.78.8-2.07 0-2.86zM5.41 20L4 18.59l7.72-7.72 1.47 1.35L5.41 20z\"/>\n",
              "  </svg>\n",
              "      </button>\n",
              "      \n",
              "  <style>\n",
              "    .colab-df-container {\n",
              "      display:flex;\n",
              "      flex-wrap:wrap;\n",
              "      gap: 12px;\n",
              "    }\n",
              "\n",
              "    .colab-df-convert {\n",
              "      background-color: #E8F0FE;\n",
              "      border: none;\n",
              "      border-radius: 50%;\n",
              "      cursor: pointer;\n",
              "      display: none;\n",
              "      fill: #1967D2;\n",
              "      height: 32px;\n",
              "      padding: 0 0 0 0;\n",
              "      width: 32px;\n",
              "    }\n",
              "\n",
              "    .colab-df-convert:hover {\n",
              "      background-color: #E2EBFA;\n",
              "      box-shadow: 0px 1px 2px rgba(60, 64, 67, 0.3), 0px 1px 3px 1px rgba(60, 64, 67, 0.15);\n",
              "      fill: #174EA6;\n",
              "    }\n",
              "\n",
              "    [theme=dark] .colab-df-convert {\n",
              "      background-color: #3B4455;\n",
              "      fill: #D2E3FC;\n",
              "    }\n",
              "\n",
              "    [theme=dark] .colab-df-convert:hover {\n",
              "      background-color: #434B5C;\n",
              "      box-shadow: 0px 1px 3px 1px rgba(0, 0, 0, 0.15);\n",
              "      filter: drop-shadow(0px 1px 2px rgba(0, 0, 0, 0.3));\n",
              "      fill: #FFFFFF;\n",
              "    }\n",
              "  </style>\n",
              "\n",
              "      <script>\n",
              "        const buttonEl =\n",
              "          document.querySelector('#df-a06a15e5-b769-4329-9580-a3c256c0d900 button.colab-df-convert');\n",
              "        buttonEl.style.display =\n",
              "          google.colab.kernel.accessAllowed ? 'block' : 'none';\n",
              "\n",
              "        async function convertToInteractive(key) {\n",
              "          const element = document.querySelector('#df-a06a15e5-b769-4329-9580-a3c256c0d900');\n",
              "          const dataTable =\n",
              "            await google.colab.kernel.invokeFunction('convertToInteractive',\n",
              "                                                     [key], {});\n",
              "          if (!dataTable) return;\n",
              "\n",
              "          const docLinkHtml = 'Like what you see? Visit the ' +\n",
              "            '<a target=\"_blank\" href=https://colab.research.google.com/notebooks/data_table.ipynb>data table notebook</a>'\n",
              "            + ' to learn more about interactive tables.';\n",
              "          element.innerHTML = '';\n",
              "          dataTable['output_type'] = 'display_data';\n",
              "          await google.colab.output.renderOutput(dataTable, element);\n",
              "          const docLink = document.createElement('div');\n",
              "          docLink.innerHTML = docLinkHtml;\n",
              "          element.appendChild(docLink);\n",
              "        }\n",
              "      </script>\n",
              "    </div>\n",
              "  </div>\n",
              "  "
            ]
          },
          "metadata": {},
          "execution_count": 188
        }
      ]
    },
    {
      "cell_type": "code",
      "source": [
        "data_df['character'].value_counts()\n"
      ],
      "metadata": {
        "colab": {
          "base_uri": "https://localhost:8080/"
        },
        "id": "aFXykA5fQNxb",
        "outputId": "3aa10fbe-ed13-4b82-b25c-c8f68a430881"
      },
      "execution_count": 189,
      "outputs": [
        {
          "output_type": "execute_result",
          "data": {
            "text/plain": [
              "九    1000\n",
              "十    1000\n",
              "百    1000\n",
              "千    1000\n",
              "万    1000\n",
              "亿    1000\n",
              "零    1000\n",
              "一    1000\n",
              "二    1000\n",
              "三    1000\n",
              "四    1000\n",
              "五    1000\n",
              "六    1000\n",
              "七    1000\n",
              "八    1000\n",
              "Name: character, dtype: int64"
            ]
          },
          "metadata": {},
          "execution_count": 189
        }
      ]
    },
    {
      "cell_type": "markdown",
      "source": [
        "#### Check for missing data"
      ],
      "metadata": {
        "id": "MxhA5lLmDb-7"
      }
    },
    {
      "cell_type": "code",
      "source": [
        "data_df.isnull().sum()\n"
      ],
      "metadata": {
        "colab": {
          "base_uri": "https://localhost:8080/"
        },
        "id": "FWL175vadFwI",
        "outputId": "7803eaa1-4cd1-4275-abf1-d11ecbfda34f"
      },
      "execution_count": 190,
      "outputs": [
        {
          "output_type": "execute_result",
          "data": {
            "text/plain": [
              "suite_id     0\n",
              "sample_id    0\n",
              "code         0\n",
              "value        0\n",
              "character    0\n",
              "dtype: int64"
            ]
          },
          "metadata": {},
          "execution_count": 190
        }
      ]
    },
    {
      "cell_type": "markdown",
      "source": [
        "### 1.3 Check If Images Matched FilePaths"
      ],
      "metadata": {
        "id": "dddz4SzvCVhz"
      }
    },
    {
      "cell_type": "code",
      "source": [
        "def createFileName(x):\n",
        "    file_name = f\"input_{x[0]}_{x[1]}_{x[2]}.jpg\"\n",
        "    return file_name\n",
        "\n",
        "#add image file name to dataframe\n",
        "data_df['filename']=data_df.apply(createFileName, axis=1)\n",
        "data_df.head()"
      ],
      "metadata": {
        "colab": {
          "base_uri": "https://localhost:8080/",
          "height": 201
        },
        "id": "VkJktoPVd9No",
        "outputId": "a96f987f-e49d-4a19-eaf7-f213cdd2de5a"
      },
      "execution_count": 191,
      "outputs": [
        {
          "output_type": "execute_result",
          "data": {
            "text/plain": [
              "   suite_id  sample_id  code  value character           filename\n",
              "0         1          1    10      9         九   input_1_1_10.jpg\n",
              "1         1         10    10      9         九  input_1_10_10.jpg\n",
              "2         1          2    10      9         九   input_1_2_10.jpg\n",
              "3         1          3    10      9         九   input_1_3_10.jpg\n",
              "4         1          4    10      9         九   input_1_4_10.jpg"
            ],
            "text/html": [
              "\n",
              "  <div id=\"df-e1d04326-38cd-4162-a49f-d2510ff916e6\">\n",
              "    <div class=\"colab-df-container\">\n",
              "      <div>\n",
              "<style scoped>\n",
              "    .dataframe tbody tr th:only-of-type {\n",
              "        vertical-align: middle;\n",
              "    }\n",
              "\n",
              "    .dataframe tbody tr th {\n",
              "        vertical-align: top;\n",
              "    }\n",
              "\n",
              "    .dataframe thead th {\n",
              "        text-align: right;\n",
              "    }\n",
              "</style>\n",
              "<table border=\"1\" class=\"dataframe\">\n",
              "  <thead>\n",
              "    <tr style=\"text-align: right;\">\n",
              "      <th></th>\n",
              "      <th>suite_id</th>\n",
              "      <th>sample_id</th>\n",
              "      <th>code</th>\n",
              "      <th>value</th>\n",
              "      <th>character</th>\n",
              "      <th>filename</th>\n",
              "    </tr>\n",
              "  </thead>\n",
              "  <tbody>\n",
              "    <tr>\n",
              "      <th>0</th>\n",
              "      <td>1</td>\n",
              "      <td>1</td>\n",
              "      <td>10</td>\n",
              "      <td>9</td>\n",
              "      <td>九</td>\n",
              "      <td>input_1_1_10.jpg</td>\n",
              "    </tr>\n",
              "    <tr>\n",
              "      <th>1</th>\n",
              "      <td>1</td>\n",
              "      <td>10</td>\n",
              "      <td>10</td>\n",
              "      <td>9</td>\n",
              "      <td>九</td>\n",
              "      <td>input_1_10_10.jpg</td>\n",
              "    </tr>\n",
              "    <tr>\n",
              "      <th>2</th>\n",
              "      <td>1</td>\n",
              "      <td>2</td>\n",
              "      <td>10</td>\n",
              "      <td>9</td>\n",
              "      <td>九</td>\n",
              "      <td>input_1_2_10.jpg</td>\n",
              "    </tr>\n",
              "    <tr>\n",
              "      <th>3</th>\n",
              "      <td>1</td>\n",
              "      <td>3</td>\n",
              "      <td>10</td>\n",
              "      <td>9</td>\n",
              "      <td>九</td>\n",
              "      <td>input_1_3_10.jpg</td>\n",
              "    </tr>\n",
              "    <tr>\n",
              "      <th>4</th>\n",
              "      <td>1</td>\n",
              "      <td>4</td>\n",
              "      <td>10</td>\n",
              "      <td>9</td>\n",
              "      <td>九</td>\n",
              "      <td>input_1_4_10.jpg</td>\n",
              "    </tr>\n",
              "  </tbody>\n",
              "</table>\n",
              "</div>\n",
              "      <button class=\"colab-df-convert\" onclick=\"convertToInteractive('df-e1d04326-38cd-4162-a49f-d2510ff916e6')\"\n",
              "              title=\"Convert this dataframe to an interactive table.\"\n",
              "              style=\"display:none;\">\n",
              "        \n",
              "  <svg xmlns=\"http://www.w3.org/2000/svg\" height=\"24px\"viewBox=\"0 0 24 24\"\n",
              "       width=\"24px\">\n",
              "    <path d=\"M0 0h24v24H0V0z\" fill=\"none\"/>\n",
              "    <path d=\"M18.56 5.44l.94 2.06.94-2.06 2.06-.94-2.06-.94-.94-2.06-.94 2.06-2.06.94zm-11 1L8.5 8.5l.94-2.06 2.06-.94-2.06-.94L8.5 2.5l-.94 2.06-2.06.94zm10 10l.94 2.06.94-2.06 2.06-.94-2.06-.94-.94-2.06-.94 2.06-2.06.94z\"/><path d=\"M17.41 7.96l-1.37-1.37c-.4-.4-.92-.59-1.43-.59-.52 0-1.04.2-1.43.59L10.3 9.45l-7.72 7.72c-.78.78-.78 2.05 0 2.83L4 21.41c.39.39.9.59 1.41.59.51 0 1.02-.2 1.41-.59l7.78-7.78 2.81-2.81c.8-.78.8-2.07 0-2.86zM5.41 20L4 18.59l7.72-7.72 1.47 1.35L5.41 20z\"/>\n",
              "  </svg>\n",
              "      </button>\n",
              "      \n",
              "  <style>\n",
              "    .colab-df-container {\n",
              "      display:flex;\n",
              "      flex-wrap:wrap;\n",
              "      gap: 12px;\n",
              "    }\n",
              "\n",
              "    .colab-df-convert {\n",
              "      background-color: #E8F0FE;\n",
              "      border: none;\n",
              "      border-radius: 50%;\n",
              "      cursor: pointer;\n",
              "      display: none;\n",
              "      fill: #1967D2;\n",
              "      height: 32px;\n",
              "      padding: 0 0 0 0;\n",
              "      width: 32px;\n",
              "    }\n",
              "\n",
              "    .colab-df-convert:hover {\n",
              "      background-color: #E2EBFA;\n",
              "      box-shadow: 0px 1px 2px rgba(60, 64, 67, 0.3), 0px 1px 3px 1px rgba(60, 64, 67, 0.15);\n",
              "      fill: #174EA6;\n",
              "    }\n",
              "\n",
              "    [theme=dark] .colab-df-convert {\n",
              "      background-color: #3B4455;\n",
              "      fill: #D2E3FC;\n",
              "    }\n",
              "\n",
              "    [theme=dark] .colab-df-convert:hover {\n",
              "      background-color: #434B5C;\n",
              "      box-shadow: 0px 1px 3px 1px rgba(0, 0, 0, 0.15);\n",
              "      filter: drop-shadow(0px 1px 2px rgba(0, 0, 0, 0.3));\n",
              "      fill: #FFFFFF;\n",
              "    }\n",
              "  </style>\n",
              "\n",
              "      <script>\n",
              "        const buttonEl =\n",
              "          document.querySelector('#df-e1d04326-38cd-4162-a49f-d2510ff916e6 button.colab-df-convert');\n",
              "        buttonEl.style.display =\n",
              "          google.colab.kernel.accessAllowed ? 'block' : 'none';\n",
              "\n",
              "        async function convertToInteractive(key) {\n",
              "          const element = document.querySelector('#df-e1d04326-38cd-4162-a49f-d2510ff916e6');\n",
              "          const dataTable =\n",
              "            await google.colab.kernel.invokeFunction('convertToInteractive',\n",
              "                                                     [key], {});\n",
              "          if (!dataTable) return;\n",
              "\n",
              "          const docLinkHtml = 'Like what you see? Visit the ' +\n",
              "            '<a target=\"_blank\" href=https://colab.research.google.com/notebooks/data_table.ipynb>data table notebook</a>'\n",
              "            + ' to learn more about interactive tables.';\n",
              "          element.innerHTML = '';\n",
              "          dataTable['output_type'] = 'display_data';\n",
              "          await google.colab.output.renderOutput(dataTable, element);\n",
              "          const docLink = document.createElement('div');\n",
              "          docLink.innerHTML = docLinkHtml;\n",
              "          element.appendChild(docLink);\n",
              "        }\n",
              "      </script>\n",
              "    </div>\n",
              "  </div>\n",
              "  "
            ]
          },
          "metadata": {},
          "execution_count": 191
        }
      ]
    },
    {
      "cell_type": "code",
      "source": [
        "data_df.tail()"
      ],
      "metadata": {
        "colab": {
          "base_uri": "https://localhost:8080/",
          "height": 201
        },
        "id": "IM0BfKklgYbF",
        "outputId": "4e38ae24-5a0f-4b81-b627-9255129d8b0e"
      },
      "execution_count": 193,
      "outputs": [
        {
          "output_type": "execute_result",
          "data": {
            "text/plain": [
              "       suite_id  sample_id  code  value character          filename\n",
              "14995        99          5     9      8         八  input_99_5_9.jpg\n",
              "14996        99          6     9      8         八  input_99_6_9.jpg\n",
              "14997        99          7     9      8         八  input_99_7_9.jpg\n",
              "14998        99          8     9      8         八  input_99_8_9.jpg\n",
              "14999        99          9     9      8         八  input_99_9_9.jpg"
            ],
            "text/html": [
              "\n",
              "  <div id=\"df-bb915970-0883-4ded-b0e4-11838aa36be2\">\n",
              "    <div class=\"colab-df-container\">\n",
              "      <div>\n",
              "<style scoped>\n",
              "    .dataframe tbody tr th:only-of-type {\n",
              "        vertical-align: middle;\n",
              "    }\n",
              "\n",
              "    .dataframe tbody tr th {\n",
              "        vertical-align: top;\n",
              "    }\n",
              "\n",
              "    .dataframe thead th {\n",
              "        text-align: right;\n",
              "    }\n",
              "</style>\n",
              "<table border=\"1\" class=\"dataframe\">\n",
              "  <thead>\n",
              "    <tr style=\"text-align: right;\">\n",
              "      <th></th>\n",
              "      <th>suite_id</th>\n",
              "      <th>sample_id</th>\n",
              "      <th>code</th>\n",
              "      <th>value</th>\n",
              "      <th>character</th>\n",
              "      <th>filename</th>\n",
              "    </tr>\n",
              "  </thead>\n",
              "  <tbody>\n",
              "    <tr>\n",
              "      <th>14995</th>\n",
              "      <td>99</td>\n",
              "      <td>5</td>\n",
              "      <td>9</td>\n",
              "      <td>8</td>\n",
              "      <td>八</td>\n",
              "      <td>input_99_5_9.jpg</td>\n",
              "    </tr>\n",
              "    <tr>\n",
              "      <th>14996</th>\n",
              "      <td>99</td>\n",
              "      <td>6</td>\n",
              "      <td>9</td>\n",
              "      <td>8</td>\n",
              "      <td>八</td>\n",
              "      <td>input_99_6_9.jpg</td>\n",
              "    </tr>\n",
              "    <tr>\n",
              "      <th>14997</th>\n",
              "      <td>99</td>\n",
              "      <td>7</td>\n",
              "      <td>9</td>\n",
              "      <td>8</td>\n",
              "      <td>八</td>\n",
              "      <td>input_99_7_9.jpg</td>\n",
              "    </tr>\n",
              "    <tr>\n",
              "      <th>14998</th>\n",
              "      <td>99</td>\n",
              "      <td>8</td>\n",
              "      <td>9</td>\n",
              "      <td>8</td>\n",
              "      <td>八</td>\n",
              "      <td>input_99_8_9.jpg</td>\n",
              "    </tr>\n",
              "    <tr>\n",
              "      <th>14999</th>\n",
              "      <td>99</td>\n",
              "      <td>9</td>\n",
              "      <td>9</td>\n",
              "      <td>8</td>\n",
              "      <td>八</td>\n",
              "      <td>input_99_9_9.jpg</td>\n",
              "    </tr>\n",
              "  </tbody>\n",
              "</table>\n",
              "</div>\n",
              "      <button class=\"colab-df-convert\" onclick=\"convertToInteractive('df-bb915970-0883-4ded-b0e4-11838aa36be2')\"\n",
              "              title=\"Convert this dataframe to an interactive table.\"\n",
              "              style=\"display:none;\">\n",
              "        \n",
              "  <svg xmlns=\"http://www.w3.org/2000/svg\" height=\"24px\"viewBox=\"0 0 24 24\"\n",
              "       width=\"24px\">\n",
              "    <path d=\"M0 0h24v24H0V0z\" fill=\"none\"/>\n",
              "    <path d=\"M18.56 5.44l.94 2.06.94-2.06 2.06-.94-2.06-.94-.94-2.06-.94 2.06-2.06.94zm-11 1L8.5 8.5l.94-2.06 2.06-.94-2.06-.94L8.5 2.5l-.94 2.06-2.06.94zm10 10l.94 2.06.94-2.06 2.06-.94-2.06-.94-.94-2.06-.94 2.06-2.06.94z\"/><path d=\"M17.41 7.96l-1.37-1.37c-.4-.4-.92-.59-1.43-.59-.52 0-1.04.2-1.43.59L10.3 9.45l-7.72 7.72c-.78.78-.78 2.05 0 2.83L4 21.41c.39.39.9.59 1.41.59.51 0 1.02-.2 1.41-.59l7.78-7.78 2.81-2.81c.8-.78.8-2.07 0-2.86zM5.41 20L4 18.59l7.72-7.72 1.47 1.35L5.41 20z\"/>\n",
              "  </svg>\n",
              "      </button>\n",
              "      \n",
              "  <style>\n",
              "    .colab-df-container {\n",
              "      display:flex;\n",
              "      flex-wrap:wrap;\n",
              "      gap: 12px;\n",
              "    }\n",
              "\n",
              "    .colab-df-convert {\n",
              "      background-color: #E8F0FE;\n",
              "      border: none;\n",
              "      border-radius: 50%;\n",
              "      cursor: pointer;\n",
              "      display: none;\n",
              "      fill: #1967D2;\n",
              "      height: 32px;\n",
              "      padding: 0 0 0 0;\n",
              "      width: 32px;\n",
              "    }\n",
              "\n",
              "    .colab-df-convert:hover {\n",
              "      background-color: #E2EBFA;\n",
              "      box-shadow: 0px 1px 2px rgba(60, 64, 67, 0.3), 0px 1px 3px 1px rgba(60, 64, 67, 0.15);\n",
              "      fill: #174EA6;\n",
              "    }\n",
              "\n",
              "    [theme=dark] .colab-df-convert {\n",
              "      background-color: #3B4455;\n",
              "      fill: #D2E3FC;\n",
              "    }\n",
              "\n",
              "    [theme=dark] .colab-df-convert:hover {\n",
              "      background-color: #434B5C;\n",
              "      box-shadow: 0px 1px 3px 1px rgba(0, 0, 0, 0.15);\n",
              "      filter: drop-shadow(0px 1px 2px rgba(0, 0, 0, 0.3));\n",
              "      fill: #FFFFFF;\n",
              "    }\n",
              "  </style>\n",
              "\n",
              "      <script>\n",
              "        const buttonEl =\n",
              "          document.querySelector('#df-bb915970-0883-4ded-b0e4-11838aa36be2 button.colab-df-convert');\n",
              "        buttonEl.style.display =\n",
              "          google.colab.kernel.accessAllowed ? 'block' : 'none';\n",
              "\n",
              "        async function convertToInteractive(key) {\n",
              "          const element = document.querySelector('#df-bb915970-0883-4ded-b0e4-11838aa36be2');\n",
              "          const dataTable =\n",
              "            await google.colab.kernel.invokeFunction('convertToInteractive',\n",
              "                                                     [key], {});\n",
              "          if (!dataTable) return;\n",
              "\n",
              "          const docLinkHtml = 'Like what you see? Visit the ' +\n",
              "            '<a target=\"_blank\" href=https://colab.research.google.com/notebooks/data_table.ipynb>data table notebook</a>'\n",
              "            + ' to learn more about interactive tables.';\n",
              "          element.innerHTML = '';\n",
              "          dataTable['output_type'] = 'display_data';\n",
              "          await google.colab.output.renderOutput(dataTable, element);\n",
              "          const docLink = document.createElement('div');\n",
              "          docLink.innerHTML = docLinkHtml;\n",
              "          element.appendChild(docLink);\n",
              "        }\n",
              "      </script>\n",
              "    </div>\n",
              "  </div>\n",
              "  "
            ]
          },
          "metadata": {},
          "execution_count": 193
        }
      ]
    },
    {
      "cell_type": "code",
      "source": [
        "#view a single image file\n",
        "plt.imshow(plt.imread(root_dir+'data/'+random.choice(data_df['filename'])))"
      ],
      "metadata": {
        "colab": {
          "base_uri": "https://localhost:8080/",
          "height": 448
        },
        "id": "9n_ZG7X7fh9i",
        "outputId": "b3e51d97-8ac8-4ff7-e3d0-85ec40a70b1d"
      },
      "execution_count": 192,
      "outputs": [
        {
          "output_type": "execute_result",
          "data": {
            "text/plain": [
              "<matplotlib.image.AxesImage at 0x7f549a5e1c00>"
            ]
          },
          "metadata": {},
          "execution_count": 192
        },
        {
          "output_type": "display_data",
          "data": {
            "text/plain": [
              "<Figure size 640x480 with 1 Axes>"
            ],
            "image/png": "[encoded data removed]"
          },
          "metadata": {}
        }
      ]
    },
    {
      "cell_type": "code",
      "source": [
        "#a quick glimpse into the numpy arrays making up the image.\n",
        "plt.imread('/content/drive/MyDrive/chinesemnist/data/data/input_1_1_9.jpg')"
      ],
      "metadata": {
        "colab": {
          "base_uri": "https://localhost:8080/"
        },
        "id": "KQE21dU4hmLD",
        "outputId": "f3aefc5f-abcd-4081-fab6-96c24fb3e394"
      },
      "execution_count": 194,
      "outputs": [
        {
          "output_type": "execute_result",
          "data": {
            "text/plain": [
              "array([[0, 0, 0, ..., 0, 0, 0],\n",
              "       [0, 0, 0, ..., 0, 0, 0],\n",
              "       [0, 0, 0, ..., 0, 0, 0],\n",
              "       ...,\n",
              "       [0, 0, 0, ..., 0, 0, 0],\n",
              "       [0, 0, 0, ..., 0, 0, 0],\n",
              "       [0, 0, 0, ..., 0, 0, 0]], dtype=uint8)"
            ]
          },
          "metadata": {},
          "execution_count": 194
        }
      ]
    },
    {
      "cell_type": "markdown",
      "source": [
        "#### Random Checking Of Images To Match File Names"
      ],
      "metadata": {
        "id": "pcs3M6YJEfkO"
      }
    },
    {
      "cell_type": "code",
      "source": [
        "#check if corresponding image is correctly labelled.\n",
        "#this will be a visual inspection from a randomly selected batch of image files.\n",
        "\n",
        "fig, axs = plt.subplots(4, 4, figsize=(12, 6))\n",
        "fig.tight_layout()\n",
        "\n",
        "for row in axs:\n",
        "    for col in row:\n",
        "        f=random.choice(data_df['filename'])\n",
        "        img=root_dir+'data/'+ f\n",
        "        image=plt.imread(img)\n",
        "        col.imshow(image)\n",
        "        col.set_title(f'filename :{f}')\n",
        "        col.axis('off')\n"
      ],
      "metadata": {
        "colab": {
          "base_uri": "https://localhost:8080/",
          "height": 600
        },
        "id": "L2hgFbv9eXAA",
        "outputId": "c75c3264-0ae0-4478-e7bd-f5500810fb78"
      },
      "execution_count": 195,
      "outputs": [
        {
          "output_type": "display_data",
          "data": {
            "text/plain": [
              "<Figure size 1200x600 with 16 Axes>"
            ],
            "image/png": "[encoded data removed]"
          },
          "metadata": {}
        }
      ]
    },
    {
      "cell_type": "code",
      "source": [
        "#select only data relevant for the characters required for classificstion\n",
        "#drop out those that are not required.\n",
        "#reform the dataset accordingly\n",
        "\n",
        "data_df.head()"
      ],
      "metadata": {
        "colab": {
          "base_uri": "https://localhost:8080/",
          "height": 201
        },
        "id": "qhBSh4uH397m",
        "outputId": "a797c213-89b5-4e62-eed3-e65d30a92ddb"
      },
      "execution_count": 196,
      "outputs": [
        {
          "output_type": "execute_result",
          "data": {
            "text/plain": [
              "   suite_id  sample_id  code  value character           filename\n",
              "0         1          1    10      9         九   input_1_1_10.jpg\n",
              "1         1         10    10      9         九  input_1_10_10.jpg\n",
              "2         1          2    10      9         九   input_1_2_10.jpg\n",
              "3         1          3    10      9         九   input_1_3_10.jpg\n",
              "4         1          4    10      9         九   input_1_4_10.jpg"
            ],
            "text/html": [
              "\n",
              "  <div id=\"df-408eedab-7fd5-417c-bab5-61dac5beb47b\">\n",
              "    <div class=\"colab-df-container\">\n",
              "      <div>\n",
              "<style scoped>\n",
              "    .dataframe tbody tr th:only-of-type {\n",
              "        vertical-align: middle;\n",
              "    }\n",
              "\n",
              "    .dataframe tbody tr th {\n",
              "        vertical-align: top;\n",
              "    }\n",
              "\n",
              "    .dataframe thead th {\n",
              "        text-align: right;\n",
              "    }\n",
              "</style>\n",
              "<table border=\"1\" class=\"dataframe\">\n",
              "  <thead>\n",
              "    <tr style=\"text-align: right;\">\n",
              "      <th></th>\n",
              "      <th>suite_id</th>\n",
              "      <th>sample_id</th>\n",
              "      <th>code</th>\n",
              "      <th>value</th>\n",
              "      <th>character</th>\n",
              "      <th>filename</th>\n",
              "    </tr>\n",
              "  </thead>\n",
              "  <tbody>\n",
              "    <tr>\n",
              "      <th>0</th>\n",
              "      <td>1</td>\n",
              "      <td>1</td>\n",
              "      <td>10</td>\n",
              "      <td>9</td>\n",
              "      <td>九</td>\n",
              "      <td>input_1_1_10.jpg</td>\n",
              "    </tr>\n",
              "    <tr>\n",
              "      <th>1</th>\n",
              "      <td>1</td>\n",
              "      <td>10</td>\n",
              "      <td>10</td>\n",
              "      <td>9</td>\n",
              "      <td>九</td>\n",
              "      <td>input_1_10_10.jpg</td>\n",
              "    </tr>\n",
              "    <tr>\n",
              "      <th>2</th>\n",
              "      <td>1</td>\n",
              "      <td>2</td>\n",
              "      <td>10</td>\n",
              "      <td>9</td>\n",
              "      <td>九</td>\n",
              "      <td>input_1_2_10.jpg</td>\n",
              "    </tr>\n",
              "    <tr>\n",
              "      <th>3</th>\n",
              "      <td>1</td>\n",
              "      <td>3</td>\n",
              "      <td>10</td>\n",
              "      <td>9</td>\n",
              "      <td>九</td>\n",
              "      <td>input_1_3_10.jpg</td>\n",
              "    </tr>\n",
              "    <tr>\n",
              "      <th>4</th>\n",
              "      <td>1</td>\n",
              "      <td>4</td>\n",
              "      <td>10</td>\n",
              "      <td>9</td>\n",
              "      <td>九</td>\n",
              "      <td>input_1_4_10.jpg</td>\n",
              "    </tr>\n",
              "  </tbody>\n",
              "</table>\n",
              "</div>\n",
              "      <button class=\"colab-df-convert\" onclick=\"convertToInteractive('df-408eedab-7fd5-417c-bab5-61dac5beb47b')\"\n",
              "              title=\"Convert this dataframe to an interactive table.\"\n",
              "              style=\"display:none;\">\n",
              "        \n",
              "  <svg xmlns=\"http://www.w3.org/2000/svg\" height=\"24px\"viewBox=\"0 0 24 24\"\n",
              "       width=\"24px\">\n",
              "    <path d=\"M0 0h24v24H0V0z\" fill=\"none\"/>\n",
              "    <path d=\"M18.56 5.44l.94 2.06.94-2.06 2.06-.94-2.06-.94-.94-2.06-.94 2.06-2.06.94zm-11 1L8.5 8.5l.94-2.06 2.06-.94-2.06-.94L8.5 2.5l-.94 2.06-2.06.94zm10 10l.94 2.06.94-2.06 2.06-.94-2.06-.94-.94-2.06-.94 2.06-2.06.94z\"/><path d=\"M17.41 7.96l-1.37-1.37c-.4-.4-.92-.59-1.43-.59-.52 0-1.04.2-1.43.59L10.3 9.45l-7.72 7.72c-.78.78-.78 2.05 0 2.83L4 21.41c.39.39.9.59 1.41.59.51 0 1.02-.2 1.41-.59l7.78-7.78 2.81-2.81c.8-.78.8-2.07 0-2.86zM5.41 20L4 18.59l7.72-7.72 1.47 1.35L5.41 20z\"/>\n",
              "  </svg>\n",
              "      </button>\n",
              "      \n",
              "  <style>\n",
              "    .colab-df-container {\n",
              "      display:flex;\n",
              "      flex-wrap:wrap;\n",
              "      gap: 12px;\n",
              "    }\n",
              "\n",
              "    .colab-df-convert {\n",
              "      background-color: #E8F0FE;\n",
              "      border: none;\n",
              "      border-radius: 50%;\n",
              "      cursor: pointer;\n",
              "      display: none;\n",
              "      fill: #1967D2;\n",
              "      height: 32px;\n",
              "      padding: 0 0 0 0;\n",
              "      width: 32px;\n",
              "    }\n",
              "\n",
              "    .colab-df-convert:hover {\n",
              "      background-color: #E2EBFA;\n",
              "      box-shadow: 0px 1px 2px rgba(60, 64, 67, 0.3), 0px 1px 3px 1px rgba(60, 64, 67, 0.15);\n",
              "      fill: #174EA6;\n",
              "    }\n",
              "\n",
              "    [theme=dark] .colab-df-convert {\n",
              "      background-color: #3B4455;\n",
              "      fill: #D2E3FC;\n",
              "    }\n",
              "\n",
              "    [theme=dark] .colab-df-convert:hover {\n",
              "      background-color: #434B5C;\n",
              "      box-shadow: 0px 1px 3px 1px rgba(0, 0, 0, 0.15);\n",
              "      filter: drop-shadow(0px 1px 2px rgba(0, 0, 0, 0.3));\n",
              "      fill: #FFFFFF;\n",
              "    }\n",
              "  </style>\n",
              "\n",
              "      <script>\n",
              "        const buttonEl =\n",
              "          document.querySelector('#df-408eedab-7fd5-417c-bab5-61dac5beb47b button.colab-df-convert');\n",
              "        buttonEl.style.display =\n",
              "          google.colab.kernel.accessAllowed ? 'block' : 'none';\n",
              "\n",
              "        async function convertToInteractive(key) {\n",
              "          const element = document.querySelector('#df-408eedab-7fd5-417c-bab5-61dac5beb47b');\n",
              "          const dataTable =\n",
              "            await google.colab.kernel.invokeFunction('convertToInteractive',\n",
              "                                                     [key], {});\n",
              "          if (!dataTable) return;\n",
              "\n",
              "          const docLinkHtml = 'Like what you see? Visit the ' +\n",
              "            '<a target=\"_blank\" href=https://colab.research.google.com/notebooks/data_table.ipynb>data table notebook</a>'\n",
              "            + ' to learn more about interactive tables.';\n",
              "          element.innerHTML = '';\n",
              "          dataTable['output_type'] = 'display_data';\n",
              "          await google.colab.output.renderOutput(dataTable, element);\n",
              "          const docLink = document.createElement('div');\n",
              "          docLink.innerHTML = docLinkHtml;\n",
              "          element.appendChild(docLink);\n",
              "        }\n",
              "      </script>\n",
              "    </div>\n",
              "  </div>\n",
              "  "
            ]
          },
          "metadata": {},
          "execution_count": 196
        }
      ]
    },
    {
      "cell_type": "markdown",
      "source": [
        "### 1.4 Select The Required Characters For Classification From DataFrame"
      ],
      "metadata": {
        "id": "yzAqgyOdCi3c"
      }
    },
    {
      "cell_type": "markdown",
      "source": [
        "From the given mapping between code and value in the chinese_mnist.csv file, and the requirements from the question, only need to include where value is less than 10."
      ],
      "metadata": {
        "id": "QAWnkUJ8C5_u"
      }
    },
    {
      "cell_type": "code",
      "source": [
        "selected_df= data_df[data_df['value']<10]\n",
        "selected_df.shape\n",
        "\n"
      ],
      "metadata": {
        "colab": {
          "base_uri": "https://localhost:8080/"
        },
        "id": "mpHrI_qD4ym_",
        "outputId": "071505c0-2ab6-4215-e0f9-cbc4128ddd5a"
      },
      "execution_count": 236,
      "outputs": [
        {
          "output_type": "execute_result",
          "data": {
            "text/plain": [
              "(10000, 6)"
            ]
          },
          "metadata": {},
          "execution_count": 236
        }
      ]
    },
    {
      "cell_type": "code",
      "source": [
        "selected_df.info()"
      ],
      "metadata": {
        "colab": {
          "base_uri": "https://localhost:8080/"
        },
        "id": "3D7OqciR6R7O",
        "outputId": "33e8fb31-e857-41dd-e8cc-ce079c1d565f"
      },
      "execution_count": 237,
      "outputs": [
        {
          "output_type": "stream",
          "name": "stdout",
          "text": [
            "<class 'pandas.core.frame.DataFrame'>\n",
            "Int64Index: 10000 entries, 0 to 14999\n",
            "Data columns (total 6 columns):\n",
            " #   Column     Non-Null Count  Dtype \n",
            "---  ------     --------------  ----- \n",
            " 0   suite_id   10000 non-null  int64 \n",
            " 1   sample_id  10000 non-null  int64 \n",
            " 2   code       10000 non-null  int64 \n",
            " 3   value      10000 non-null  int64 \n",
            " 4   character  10000 non-null  object\n",
            " 5   filename   10000 non-null  object\n",
            "dtypes: int64(4), object(2)\n",
            "memory usage: 546.9+ KB\n"
          ]
        }
      ]
    },
    {
      "cell_type": "markdown",
      "source": [
        "#### Check Distribution Of Characters In Selected Data"
      ],
      "metadata": {
        "id": "ENGhoCpGE1dU"
      }
    },
    {
      "cell_type": "code",
      "source": [
        "selected_df['value'].value_counts()"
      ],
      "metadata": {
        "colab": {
          "base_uri": "https://localhost:8080/"
        },
        "id": "Zw-j5Ev06W-p",
        "outputId": "c7d0e63f-2e54-40bb-b30f-20cb996c7207"
      },
      "execution_count": 238,
      "outputs": [
        {
          "output_type": "execute_result",
          "data": {
            "text/plain": [
              "9    1000\n",
              "0    1000\n",
              "1    1000\n",
              "2    1000\n",
              "3    1000\n",
              "4    1000\n",
              "5    1000\n",
              "6    1000\n",
              "7    1000\n",
              "8    1000\n",
              "Name: value, dtype: int64"
            ]
          },
          "metadata": {},
          "execution_count": 238
        }
      ]
    },
    {
      "cell_type": "markdown",
      "source": [
        "Using the subsetted dataframe, create a 'selectedData' folder and move the required files to this folder.\n",
        "\n"
      ],
      "metadata": {
        "id": "LYoNs5phDdYT"
      }
    },
    {
      "cell_type": "code",
      "source": [
        "#check if the directory 'selectedData' is available.\n",
        "#create the directory if neccesary.\n",
        "\n",
        "def checkDirectoryAvailable():\n",
        "  if not os.path.exists(root_dir+'selectedData'):\n",
        "      os.makedirs(root_dir+'selectedData')\n",
        "      print(f\"Directory '{root_dir+'selectedData'}' created.\")\n",
        "  else:\n",
        "      print(f\"Directory '{root_dir+'selectedData'}' already exists.\")"
      ],
      "metadata": {
        "id": "VHkaciPo6dJX"
      },
      "execution_count": 239,
      "outputs": []
    },
    {
      "cell_type": "code",
      "source": [
        "checkDirectoryAvailable()"
      ],
      "metadata": {
        "colab": {
          "base_uri": "https://localhost:8080/"
        },
        "id": "MfoMISVB6xuy",
        "outputId": "b3403f1a-4ca0-4011-debd-c0ddb17e646d"
      },
      "execution_count": 240,
      "outputs": [
        {
          "output_type": "stream",
          "name": "stdout",
          "text": [
            "Directory '/content/drive/MyDrive/chinesemnist/data/selectedData' already exists.\n"
          ]
        }
      ]
    },
    {
      "cell_type": "code",
      "source": [
        "def extractRequiredImageFilePath(selectedDF):\n",
        "\n",
        "    \"\"\"Using the filtered dataframe create a list of required file paths.\n",
        "\n",
        "    Args:\n",
        "        selectedDF (pandas.dataframe): subsetted dataframe for the required training characters.\n",
        "\n",
        "    Returns:\n",
        "        list: list of image file paths that are required for training the model.\n",
        "    \"\"\"\n",
        "\n",
        "  imageFilePaths = map(lambda x:(root_dir+'data/'+x, root_dir+'selectedData/'+x),\n",
        "                       selectedDF['filename'])\n",
        "  return list(imageFilePaths)\n",
        "\n",
        "listSelectedFiles=extractRequiredImageFilePath(selected_df)\n",
        "len(listSelectedFiles)"
      ],
      "metadata": {
        "colab": {
          "base_uri": "https://localhost:8080/"
        },
        "id": "VgMvq-0J8XKw",
        "outputId": "f3122622-ff8e-4ae6-f23e-bb07c6bc515d"
      },
      "execution_count": 256,
      "outputs": [
        {
          "output_type": "execute_result",
          "data": {
            "text/plain": [
              "10000"
            ]
          },
          "metadata": {},
          "execution_count": 256
        }
      ]
    },
    {
      "cell_type": "code",
      "source": [
        "listSelectedFiles[:5]"
      ],
      "metadata": {
        "colab": {
          "base_uri": "https://localhost:8080/"
        },
        "id": "bUXYadO4_4F1",
        "outputId": "2b749c3d-d1bb-4193-db73-d05dc9f2511b"
      },
      "execution_count": 258,
      "outputs": [
        {
          "output_type": "execute_result",
          "data": {
            "text/plain": [
              "[('/content/drive/MyDrive/chinesemnist/data/data/input_1_1_10.jpg',\n",
              "  '/content/drive/MyDrive/chinesemnist/data/selectedData/input_1_1_10.jpg'),\n",
              " ('/content/drive/MyDrive/chinesemnist/data/data/input_1_10_10.jpg',\n",
              "  '/content/drive/MyDrive/chinesemnist/data/selectedData/input_1_10_10.jpg'),\n",
              " ('/content/drive/MyDrive/chinesemnist/data/data/input_1_2_10.jpg',\n",
              "  '/content/drive/MyDrive/chinesemnist/data/selectedData/input_1_2_10.jpg'),\n",
              " ('/content/drive/MyDrive/chinesemnist/data/data/input_1_3_10.jpg',\n",
              "  '/content/drive/MyDrive/chinesemnist/data/selectedData/input_1_3_10.jpg'),\n",
              " ('/content/drive/MyDrive/chinesemnist/data/data/input_1_4_10.jpg',\n",
              "  '/content/drive/MyDrive/chinesemnist/data/selectedData/input_1_4_10.jpg')]"
            ]
          },
          "metadata": {},
          "execution_count": 258
        }
      ]
    },
    {
      "cell_type": "markdown",
      "source": [
        "#### Copy Required Images To 'selectedData' Folder"
      ],
      "metadata": {
        "id": "bWmVi1BIFHao"
      }
    },
    {
      "cell_type": "code",
      "source": [
        "for eachFileTuple in tqdm(listSelectedFiles):\n",
        "    shutil.copy(eachFileTuple[0],eachFileTuple[1])\n",
        "\n",
        "\n"
      ],
      "metadata": {
        "colab": {
          "base_uri": "https://localhost:8080/"
        },
        "id": "zU9p0_et-_Ww",
        "outputId": "a767c527-360a-4e3d-e183-3d96c313c9ae"
      },
      "execution_count": 257,
      "outputs": [
        {
          "output_type": "stream",
          "name": "stderr",
          "text": [
            "100%|██████████| 10000/10000 [01:32<00:00, 108.60it/s]\n"
          ]
        }
      ]
    },
    {
      "cell_type": "code",
      "source": [
        "# Check Total Images Copied.\n",
        "def checkTotalNumberImages(folder):\n",
        "  count=0\n",
        "  #get total number of images\n",
        "\n",
        "  for imagePath in Path(root_dir+folder).iterdir():\n",
        "    #print(imagePath)\n",
        "    if imagePath.is_file() and allowed_file(str(imagePath)):\n",
        "      count+=1\n",
        "      #print('its an image')\n",
        "  return count\n",
        "\n",
        "print('Total Number of Images =', checkTotalNumberImages('selectedData'))"
      ],
      "metadata": {
        "colab": {
          "base_uri": "https://localhost:8080/"
        },
        "id": "XxBt5-MfF3qZ",
        "outputId": "8e8e7e42-f2a7-48b0-8e49-747598b08feb"
      },
      "execution_count": 259,
      "outputs": [
        {
          "output_type": "stream",
          "name": "stdout",
          "text": [
            "Total Number of Images = 10000\n"
          ]
        }
      ]
    },
    {
      "cell_type": "code",
      "source": [
        "selectedDataFilePaths=[str(eachFile) for eachFile in Path(root_dir+'selectedData').iterdir()]\n",
        "selectedDataFilePaths[:5]"
      ],
      "metadata": {
        "colab": {
          "base_uri": "https://localhost:8080/"
        },
        "id": "PjKWZGM-IwyV",
        "outputId": "ead05927-41b5-405e-9ae2-8b950e62a881"
      },
      "execution_count": 260,
      "outputs": [
        {
          "output_type": "execute_result",
          "data": {
            "text/plain": [
              "['/content/drive/MyDrive/chinesemnist/data/selectedData/input_1_1_10.jpg',\n",
              " '/content/drive/MyDrive/chinesemnist/data/selectedData/input_1_10_10.jpg',\n",
              " '/content/drive/MyDrive/chinesemnist/data/selectedData/input_1_2_10.jpg',\n",
              " '/content/drive/MyDrive/chinesemnist/data/selectedData/input_1_3_10.jpg',\n",
              " '/content/drive/MyDrive/chinesemnist/data/selectedData/input_1_4_10.jpg']"
            ]
          },
          "metadata": {},
          "execution_count": 260
        }
      ]
    },
    {
      "cell_type": "code",
      "source": [],
      "metadata": {
        "id": "Ps_mHf6ZLwyK"
      },
      "execution_count": null,
      "outputs": []
    },
    {
      "cell_type": "markdown",
      "source": [
        "## Train, Validation, Test Split"
      ],
      "metadata": {
        "id": "MIH80QFjLxc1"
      }
    },
    {
      "cell_type": "markdown",
      "source": [
        "From the image files in the 'selectedData', split the image files into train, test and validation folders.\n"
      ],
      "metadata": {
        "id": "nhGCnoIHD6qn"
      }
    },
    {
      "cell_type": "code",
      "source": [
        "from sklearn.model_selection import train_test_split\n",
        "\n",
        "# Define the train-test split ratio\n",
        "\n",
        "test_size = 0.1  # 10% all data for testing\n",
        "val_size=0.15 #15% of all data is used for validation.\n",
        "train_size=0.75 #75% of all data for training.\n",
        "\n",
        "# Perform the train-test split\n",
        "train_files, test_set = train_test_split(selectedDataFilePaths,\n",
        "                                           test_size=test_size,\n",
        "                                           random_state=42)\n",
        "\n",
        "train_set, val_set = train_test_split(train_files,\n",
        "                                           test_size=val_size/(1-test_size),\n",
        "                                           random_state=42)\n",
        "\n",
        "# Print the number of files in each set\n",
        "print(f\"Number of training files: {len(train_set)}\")\n",
        "print(f\"Number of testing files: {len(test_set)}\")\n",
        "print(f\"Number of validation files: {len(val_set)}\")"
      ],
      "metadata": {
        "colab": {
          "base_uri": "https://localhost:8080/"
        },
        "id": "FZ1mIsKABJZQ",
        "outputId": "9de73625-5b11-47c2-8916-6d9b33827612"
      },
      "execution_count": 261,
      "outputs": [
        {
          "output_type": "stream",
          "name": "stdout",
          "text": [
            "Number of training files: 7500\n",
            "Number of testing files: 1000\n",
            "Number of validation files: 1500\n"
          ]
        }
      ]
    },
    {
      "cell_type": "code",
      "source": [
        "train_set[:5]"
      ],
      "metadata": {
        "colab": {
          "base_uri": "https://localhost:8080/"
        },
        "id": "lcmyhC4rQrNo",
        "outputId": "85289518-95b6-4a82-c74f-f22d4e55f883"
      },
      "execution_count": 262,
      "outputs": [
        {
          "output_type": "execute_result",
          "data": {
            "text/plain": [
              "['/content/drive/MyDrive/chinesemnist/data/selectedData/input_25_2_4.jpg',\n",
              " '/content/drive/MyDrive/chinesemnist/data/selectedData/input_80_3_1.jpg',\n",
              " '/content/drive/MyDrive/chinesemnist/data/selectedData/input_33_3_4.jpg',\n",
              " '/content/drive/MyDrive/chinesemnist/data/selectedData/input_34_6_6.jpg',\n",
              " '/content/drive/MyDrive/chinesemnist/data/selectedData/input_48_1_2.jpg']"
            ]
          },
          "metadata": {},
          "execution_count": 262
        }
      ]
    },
    {
      "cell_type": "code",
      "source": [
        "np.array(Image.open(train_set[0])).shape"
      ],
      "metadata": {
        "colab": {
          "base_uri": "https://localhost:8080/"
        },
        "id": "G7cc_bQIRVKW",
        "outputId": "e7d5470a-8bc9-48db-9ddd-193aa89c47ed"
      },
      "execution_count": 273,
      "outputs": [
        {
          "output_type": "execute_result",
          "data": {
            "text/plain": [
              "(64, 64)"
            ]
          },
          "metadata": {},
          "execution_count": 273
        }
      ]
    },
    {
      "cell_type": "code",
      "source": [
        "def createTrainValTestFolders(listImagePaths, folderName):\n",
        "\n",
        "  \"\"\"Copy seleced files to train, test, valid folders.\n",
        "\n",
        "    Args:\n",
        "        listImagePaths (list): list of file paths for relevant images.\n",
        "        folderName (str): folder name required to create.\n",
        "\n",
        "    Returns:\n",
        "        None.\n",
        "  \"\"\"\n",
        "\n",
        "\n",
        "  for eachFile in tqdm(listImagePaths):\n",
        "      try:\n",
        "        shutil.copy(eachFile,root_dir+'modelData/'+folderName)\n",
        "      except IOError as e:\n",
        "        print(str(e))\n",
        "        os.makedirs(os.path.dirname(root_dir+'modelData/'+folderName))\n",
        "        print(f'Created {root_dir}'+'modelData/'+folderName)\n",
        "        shutil.copy(eachFile,root_dir+'modelData/'+folderName)\n"
      ],
      "metadata": {
        "id": "H_05Puc8Rf9n"
      },
      "execution_count": 263,
      "outputs": []
    },
    {
      "cell_type": "markdown",
      "source": [
        "#### 1.5 Create train, test, vdalidation folders and move the relevant images into them."
      ],
      "metadata": {
        "id": "AkDLh6EQLmYZ"
      }
    },
    {
      "cell_type": "code",
      "source": [
        "createTrainValTestFolders(test_set, 'test/')\n",
        "print(checkTotalNumberImages('modelData/'+'test/'))\n"
      ],
      "metadata": {
        "colab": {
          "base_uri": "https://localhost:8080/"
        },
        "id": "IsXnFmzjSD9e",
        "outputId": "0381e445-0c41-4af5-a7b9-7033ccc539b9"
      },
      "execution_count": 264,
      "outputs": [
        {
          "output_type": "stream",
          "name": "stderr",
          "text": [
            "  1%|          | 9/1000 [00:00<00:11, 88.84it/s]"
          ]
        },
        {
          "output_type": "stream",
          "name": "stdout",
          "text": [
            "Directory does not exist: /content/drive/MyDrive/chinesemnist/data/modelData/test/\n",
            "Created /content/drive/MyDrive/chinesemnist/data/modelData/test/\n"
          ]
        },
        {
          "output_type": "stream",
          "name": "stderr",
          "text": [
            "100%|██████████| 1000/1000 [00:10<00:00, 97.60it/s]\n"
          ]
        },
        {
          "output_type": "stream",
          "name": "stdout",
          "text": [
            "1000\n"
          ]
        }
      ]
    },
    {
      "cell_type": "code",
      "source": [
        "createTrainValTestFolders(train_set, 'train/')\n",
        "print(checkTotalNumberImages('modelData/'+'train/'))"
      ],
      "metadata": {
        "colab": {
          "base_uri": "https://localhost:8080/"
        },
        "id": "7jV4z4BVSqa4",
        "outputId": "a324557e-55a5-4a0e-ea47-428e66997f90"
      },
      "execution_count": 265,
      "outputs": [
        {
          "output_type": "stream",
          "name": "stderr",
          "text": [
            "  0%|          | 20/7500 [00:00<01:16, 97.22it/s]"
          ]
        },
        {
          "output_type": "stream",
          "name": "stdout",
          "text": [
            "Directory does not exist: /content/drive/MyDrive/chinesemnist/data/modelData/train/\n",
            "Created /content/drive/MyDrive/chinesemnist/data/modelData/train/\n"
          ]
        },
        {
          "output_type": "stream",
          "name": "stderr",
          "text": [
            "100%|██████████| 7500/7500 [01:38<00:00, 75.93it/s]\n"
          ]
        },
        {
          "output_type": "stream",
          "name": "stdout",
          "text": [
            "7500\n"
          ]
        }
      ]
    },
    {
      "cell_type": "code",
      "source": [
        "createTrainValTestFolders(val_set, 'valid/')\n",
        "print(checkTotalNumberImages('modelData/'+'valid/'))"
      ],
      "metadata": {
        "colab": {
          "base_uri": "https://localhost:8080/"
        },
        "id": "F0jwzzbMStr6",
        "outputId": "763ad36c-b6ad-4ba5-aa5f-352fbcf511f6"
      },
      "execution_count": 266,
      "outputs": [
        {
          "output_type": "stream",
          "name": "stderr",
          "text": [
            "  1%|          | 9/1500 [00:00<00:16, 89.72it/s]"
          ]
        },
        {
          "output_type": "stream",
          "name": "stdout",
          "text": [
            "Directory does not exist: /content/drive/MyDrive/chinesemnist/data/modelData/valid/\n",
            "Created /content/drive/MyDrive/chinesemnist/data/modelData/valid/\n"
          ]
        },
        {
          "output_type": "stream",
          "name": "stderr",
          "text": [
            "100%|██████████| 1500/1500 [00:16<00:00, 90.92it/s]\n"
          ]
        },
        {
          "output_type": "stream",
          "name": "stdout",
          "text": [
            "1500\n"
          ]
        }
      ]
    },
    {
      "cell_type": "markdown",
      "source": [
        "## Move the images into their respective class folders\n"
      ],
      "metadata": {
        "id": "KIc_-YleTRQD"
      }
    },
    {
      "cell_type": "markdown",
      "source": [
        "1. All the images in 'selectedData' folder are images required for the classification of chinese characters from 0 to 9.\n",
        "\n",
        "2. These are splitted into train, validation and test set - Essentially 3 separate folders.\n",
        "\n",
        "3. The image filenames is able to indicate the value represented by the image. Using the 'code', represented by the last digit in the filename, it is possible to sort the image files into their respective representive their value.\n",
        "\n",
        "4. In the next lines of code, the objective is to move all the images to their respective 'class'.\n",
        "\n",
        "---\n",
        "\n",
        "**The sample file structure:**\n",
        "```\n",
        "selectedData\n",
        "|\n",
        "+--train\n",
        "|  |\n",
        "|  +--zero\n",
        "|  |  |\n",
        "|  |  +--image_1_1_1.jpg\n",
        "|  |  |\n",
        "|  |  +--image_2_1_1.jpg\n",
        "|  |__one\n",
        "|     |\n",
        "|     +--image_1_1_2.jpg\n",
        "|\n",
        "+--valid\n",
        "   |\n",
        "   +--zero\n",
        "   |\n",
        "   +--one\n",
        "   |\n",
        "   +-- etc...\n",
        "```"
      ],
      "metadata": {
        "id": "e3NDmAXmCoKx"
      }
    },
    {
      "cell_type": "code",
      "source": [
        "\n",
        "#classDict -> {code:value, ...} (value expressed in text form)\n",
        "#classDict is use to create the corresponding folder name to hold the images based on its 'code' value.\n",
        "\n",
        "classDict= {'1':'zero','2':'one', '3':'two',\n",
        "            '4':'three','5':'four', '6':'five',\n",
        "            '7':'six', '8':'seven','9':'eight',\n",
        "            '10':'nine'}\n",
        "\n",
        "folderDict={'test':'test/','train':'train/','valid':'valid/'}\n",
        "\n",
        "def moveFilesToClassFolders(classDict, fileNames,folderNames):\n",
        "  \"\"\"Identify relevant files in train,test,valid folder and\n",
        "  move them according to their labels to their respective folders.\n",
        "\n",
        "    Args:\n",
        "        classDict (dict): match code value to text for folder label.\n",
        "        fileNames (list): list of file path in string format.\n",
        "        folderNames (str): folder name required to create\n",
        "\n",
        "    Returns:\n",
        "        count (int): the number of files moved\n",
        "  \"\"\"\n",
        "\n",
        "\n",
        "  count=0\n",
        "  fn=folderDict.get(folderNames)\n",
        "  for i in tqdm(fileNames):\n",
        "    code=i.split('/')[-1].split('.')[0].split('_')[-1]\n",
        "    #print(code)\n",
        "    #print(classDict.get(code,'Not Required'))\n",
        "    #print(root_dir+subdir+'test/'+classDict.get(code,'Not Required')+'/')\n",
        "    try:\n",
        "      shutil.move(i,root_dir+subdir+fn+classDict.get(code,'Not Required')+'/')\n",
        "      count+=count\n",
        "    except IOError as e:\n",
        "      print(str(e))\n",
        "      try:\n",
        "        os.makedirs(os.path.dirname(root_dir+subdir+fn+classDict.get(code,'Not Required')+'/'))\n",
        "        print(f'Created {root_dir}+{subdir}+fn+{classDict.get(code,\"Not Required\")}+\"/\"')\n",
        "        shutil.move(i,root_dir+subdir+fn+classDict.get(code,'Not Required')+'/')\n",
        "        count+=count\n",
        "      except FileExistsError:\n",
        "        print('The directory already exists')\n",
        "  return print(f'Number of Files Moved : {count}')\n",
        "\n",
        "\n",
        "\n",
        "subdir='modelData/'\n",
        "fileNames_test=[str(each) for each in Path(root_dir+subdir+'test/').iterdir()]\n",
        "fileNames_validation=[str(each) for each in Path(root_dir+subdir+'valid/').iterdir()]\n",
        "fileNames_train=[str(each) for each in Path(root_dir+subdir+'train/').iterdir()]\n",
        "\n",
        "#moveFilesToClassFolders(classDict,fileNames_test,'test')\n",
        "moveFilesToClassFolders(classDict,fileNames_validation,'valid')\n",
        "moveFilesToClassFolders(classDict,fileNames_train, 'train')\n",
        "\n"
      ],
      "metadata": {
        "colab": {
          "base_uri": "https://localhost:8080/"
        },
        "id": "62u_n_dgTemQ",
        "outputId": "2d21a5ff-85e1-4d58-e3fc-1631f403acd4"
      },
      "execution_count": 274,
      "outputs": [
        {
          "output_type": "stream",
          "name": "stderr",
          "text": [
            "  1%|▏         | 20/1500 [00:00<00:15, 95.96it/s]"
          ]
        },
        {
          "output_type": "stream",
          "name": "stdout",
          "text": [
            "Directory does not exist: /content/drive/MyDrive/chinesemnist/data/modelData/valid/six/\n",
            "Created /content/drive/MyDrive/chinesemnist/data/+modelData/+fn+six+\"/\"\n",
            "Directory does not exist: /content/drive/MyDrive/chinesemnist/data/modelData/valid/seven/\n",
            "Created /content/drive/MyDrive/chinesemnist/data/+modelData/+fn+seven+\"/\"\n",
            "Directory does not exist: /content/drive/MyDrive/chinesemnist/data/modelData/valid/one/\n",
            "Created /content/drive/MyDrive/chinesemnist/data/+modelData/+fn+one+\"/\"\n",
            "Directory does not exist: /content/drive/MyDrive/chinesemnist/data/modelData/valid/four/\n",
            "Created /content/drive/MyDrive/chinesemnist/data/+modelData/+fn+four+\"/\"\n",
            "Directory does not exist: /content/drive/MyDrive/chinesemnist/data/modelData/valid/zero/\n",
            "Created /content/drive/MyDrive/chinesemnist/data/+modelData/+fn+zero+\"/\"\n",
            "Directory does not exist: /content/drive/MyDrive/chinesemnist/data/modelData/valid/three/\n",
            "Created /content/drive/MyDrive/chinesemnist/data/+modelData/+fn+three+\"/\"\n",
            "Directory does not exist: /content/drive/MyDrive/chinesemnist/data/modelData/valid/eight/\n",
            "Created /content/drive/MyDrive/chinesemnist/data/+modelData/+fn+eight+\"/\"\n",
            "Directory does not exist: /content/drive/MyDrive/chinesemnist/data/modelData/valid/five/\n",
            "Created /content/drive/MyDrive/chinesemnist/data/+modelData/+fn+five+\"/\"\n",
            "Directory does not exist: /content/drive/MyDrive/chinesemnist/data/modelData/valid/two/\n",
            "Created /content/drive/MyDrive/chinesemnist/data/+modelData/+fn+two+\"/\"\n"
          ]
        },
        {
          "output_type": "stream",
          "name": "stderr",
          "text": [
            "  4%|▍         | 57/1500 [00:00<00:09, 151.78it/s]"
          ]
        },
        {
          "output_type": "stream",
          "name": "stdout",
          "text": [
            "Directory does not exist: /content/drive/MyDrive/chinesemnist/data/modelData/valid/nine/\n",
            "Created /content/drive/MyDrive/chinesemnist/data/+modelData/+fn+nine+\"/\"\n"
          ]
        },
        {
          "output_type": "stream",
          "name": "stderr",
          "text": [
            "100%|██████████| 1500/1500 [00:08<00:00, 184.78it/s]\n"
          ]
        },
        {
          "output_type": "stream",
          "name": "stdout",
          "text": [
            "Number of Files Moved : 0\n"
          ]
        },
        {
          "output_type": "stream",
          "name": "stderr",
          "text": [
            "  0%|          | 8/7500 [00:00<01:53, 65.96it/s]"
          ]
        },
        {
          "output_type": "stream",
          "name": "stdout",
          "text": [
            "Directory does not exist: /content/drive/MyDrive/chinesemnist/data/modelData/train/three/\n",
            "Created /content/drive/MyDrive/chinesemnist/data/+modelData/+fn+three+\"/\"\n",
            "Directory does not exist: /content/drive/MyDrive/chinesemnist/data/modelData/train/zero/\n",
            "Created /content/drive/MyDrive/chinesemnist/data/+modelData/+fn+zero+\"/\"\n",
            "Directory does not exist: /content/drive/MyDrive/chinesemnist/data/modelData/train/five/\n",
            "Created /content/drive/MyDrive/chinesemnist/data/+modelData/+fn+five+\"/\"\n",
            "Directory does not exist: /content/drive/MyDrive/chinesemnist/data/modelData/train/one/\n",
            "Created /content/drive/MyDrive/chinesemnist/data/+modelData/+fn+one+\"/\"\n",
            "Directory does not exist: /content/drive/MyDrive/chinesemnist/data/modelData/train/six/\n",
            "Created /content/drive/MyDrive/chinesemnist/data/+modelData/+fn+six+\"/\"\n",
            "Directory does not exist: /content/drive/MyDrive/chinesemnist/data/modelData/train/seven/\n",
            "Created /content/drive/MyDrive/chinesemnist/data/+modelData/+fn+seven+\"/\"\n",
            "Directory does not exist: /content/drive/MyDrive/chinesemnist/data/modelData/train/eight/\n",
            "Created /content/drive/MyDrive/chinesemnist/data/+modelData/+fn+eight+\"/\"\n",
            "Directory does not exist: /content/drive/MyDrive/chinesemnist/data/modelData/train/nine/\n",
            "Created /content/drive/MyDrive/chinesemnist/data/+modelData/+fn+nine+\"/\"\n",
            "Directory does not exist: /content/drive/MyDrive/chinesemnist/data/modelData/train/two/\n",
            "Created /content/drive/MyDrive/chinesemnist/data/+modelData/+fn+two+\"/\"\n",
            "Directory does not exist: /content/drive/MyDrive/chinesemnist/data/modelData/train/four/\n",
            "Created /content/drive/MyDrive/chinesemnist/data/+modelData/+fn+four+\"/\"\n"
          ]
        },
        {
          "output_type": "stream",
          "name": "stderr",
          "text": [
            "100%|██████████| 7500/7500 [01:00<00:00, 124.21it/s]"
          ]
        },
        {
          "output_type": "stream",
          "name": "stdout",
          "text": [
            "Number of Files Moved : 0\n"
          ]
        },
        {
          "output_type": "stream",
          "name": "stderr",
          "text": [
            "\n"
          ]
        }
      ]
    },
    {
      "cell_type": "markdown",
      "source": [
        "# PART 2: PREPARING DATA AND SETTING UP THE MODEL"
      ],
      "metadata": {
        "id": "wsYIqVJ-FDs2"
      }
    },
    {
      "cell_type": "markdown",
      "source": [
        "## Preparing DataLoader"
      ],
      "metadata": {
        "id": "i_x9bDEympdy"
      }
    },
    {
      "cell_type": "code",
      "source": [
        "\n",
        "BATCH_SIZE=32\n",
        "\n",
        "# Define the transformation to apply to the images\n",
        "transform = transforms.Compose([\n",
        "    #transforms.Resize((224, 224)),  # Resize the images to a specific size\n",
        "    transforms.Grayscale(),\n",
        "    transforms.ToTensor(),  # Convert images to tensors\n",
        "    transforms.Normalize(mean=(0.5,), std=(0.5,))  # Normalize the image tensors\n",
        "\n",
        "])\n",
        "\n",
        "# Load the training dataset\n",
        "#By default the imageFolder loads images with 3 channels\n",
        "#But data is in grayscale (single channel).\n",
        "#Need to transform\n",
        "train_dataset = torchvision.datasets.ImageFolder(\n",
        "    root=root_dir+'modelData/train/',\n",
        "    transform=transform\n",
        ")\n",
        "\n",
        "# Create a data loader for the training dataset\n",
        "train_loader = torch.utils.data.DataLoader(\n",
        "    train_dataset,\n",
        "    batch_size=BATCH_SIZE,\n",
        "    shuffle=True,\n",
        "    num_workers=1\n",
        ")\n",
        "\n",
        "#This is not required but kept here in case for testing.\n",
        "# Load the test dataset\n",
        "# test_dataset = torchvision.datasets.ImageFolder(\n",
        "#     root=root_dir+'modelData/test/',\n",
        "#     transform=transform\n",
        "# )\n",
        "\n",
        "\n",
        "val_dataset = torchvision.datasets.ImageFolder(\n",
        "    root=root_dir+'modelData/valid/',\n",
        "    transform=transform\n",
        ")\n",
        "\n",
        "# Create a data loader for the validation dataset\n",
        "val_loader = torch.utils.data.DataLoader(\n",
        "    val_dataset,\n",
        "    batch_size=BATCH_SIZE,\n",
        "    shuffle=False,\n",
        "    num_workers=1\n",
        ")\n",
        "\n"
      ],
      "metadata": {
        "id": "AvNyUOAB-8_d"
      },
      "execution_count": 42,
      "outputs": []
    },
    {
      "cell_type": "markdown",
      "source": [
        "#### 2.1 Understanding Dataset and Dataloader"
      ],
      "metadata": {
        "id": "37wwlR4Dcny0"
      }
    },
    {
      "cell_type": "code",
      "source": [
        "print(f'Classes in train set: {train_dataset.classes}\\nNumber of unique classes: {len(set(train_dataset.classes))}\\\n",
        "      Number Of Images: {len(train_dataset)}')\n",
        "print(f'Classes in validation set: {val_dataset.classes}\\nNumber of unique classes: {len(set(val_dataset.classes))}\\\n",
        "      Number Of Images: {len(val_dataset)}')\n",
        "\n",
        "#print(f'Classes in test set: {test_dataset.classes}\\nNumber of unique classes: {len(set(test_dataset.classes))}')\n",
        "\n"
      ],
      "metadata": {
        "colab": {
          "base_uri": "https://localhost:8080/"
        },
        "id": "PdTuQ4M4GlEQ",
        "outputId": "6829615e-9732-4a27-a5fe-47e67a8f766c"
      },
      "execution_count": 43,
      "outputs": [
        {
          "output_type": "stream",
          "name": "stdout",
          "text": [
            "Classes in train set: ['eight', 'five', 'four', 'nine', 'one', 'seven', 'six', 'three', 'two', 'zero']\n",
            "Number of unique classes: 10      Number Of Images: 7500\n",
            "Classes in validation set: ['eight', 'five', 'four', 'nine', 'one', 'seven', 'six', 'three', 'two', 'zero']\n",
            "Number of unique classes: 10      Number Of Images: 1500\n"
          ]
        }
      ]
    },
    {
      "cell_type": "code",
      "source": [
        "# Check the length of train and test dataloders\n",
        "\n",
        "print(f\"Dataloaders: {train_loader, val_loader}\")\n",
        "print(f\"Length of train dataloader: {len(train_loader)} batches of {BATCH_SIZE}\")\n",
        "print(f\"Length of test dataloader: {len(val_loader)} batches of {BATCH_SIZE}\")"
      ],
      "metadata": {
        "colab": {
          "base_uri": "https://localhost:8080/"
        },
        "id": "WCvlr-FEbV1A",
        "outputId": "af042d40-55d8-4a30-cead-1630a845022e"
      },
      "execution_count": 44,
      "outputs": [
        {
          "output_type": "stream",
          "name": "stdout",
          "text": [
            "Dataloaders: (<torch.utils.data.dataloader.DataLoader object at 0x7f9e5e37f580>, <torch.utils.data.dataloader.DataLoader object at 0x7f9e8bb76680>)\n",
            "Length of train dataloader: 235 batches of 32\n",
            "Length of test dataloader: 47 batches of 32\n"
          ]
        }
      ]
    },
    {
      "cell_type": "code",
      "source": [
        "# Check out what's inside the training dataloader\n",
        "\n",
        "train_features_batch, train_labels_batch = next(iter(train_loader))\n",
        "train_features_batch.shape, train_labels_batch.shape"
      ],
      "metadata": {
        "colab": {
          "base_uri": "https://localhost:8080/"
        },
        "id": "lFSTWtBuca2y",
        "outputId": "750981b2-4c35-4dda-890f-1233021f6735"
      },
      "execution_count": 7,
      "outputs": [
        {
          "output_type": "execute_result",
          "data": {
            "text/plain": [
              "(torch.Size([32, 1, 64, 64]), torch.Size([32]))"
            ]
          },
          "metadata": {},
          "execution_count": 7
        }
      ]
    },
    {
      "cell_type": "code",
      "source": [
        "#See the class to index matching\n",
        "#This important to know how pytorch match the different folders to a index value.\n",
        "#This index value can be thought of as the class label.\n",
        "#From pytorch documentation, this done through listing the directory and applying sort() to the directory names.\n",
        "\n",
        "print(train_dataset.class_to_idx)\n",
        "print(val_dataset.class_to_idx)\n",
        "#print(test_dataset.class_to_idx)"
      ],
      "metadata": {
        "colab": {
          "base_uri": "https://localhost:8080/"
        },
        "id": "RMuIygyhWNuE",
        "outputId": "40365ed3-7f3b-4843-a871-2ffe0890a4ae"
      },
      "execution_count": 70,
      "outputs": [
        {
          "output_type": "stream",
          "name": "stdout",
          "text": [
            "{'eight': 0, 'five': 1, 'four': 2, 'nine': 3, 'one': 4, 'seven': 5, 'six': 6, 'three': 7, 'two': 8, 'zero': 9}\n",
            "{'eight': 0, 'five': 1, 'four': 2, 'nine': 3, 'one': 4, 'seven': 5, 'six': 6, 'three': 7, 'two': 8, 'zero': 9}\n"
          ]
        }
      ]
    },
    {
      "cell_type": "code",
      "source": [
        "img, label = train_dataset[0][0], train_dataset[0][1]\n",
        "print(f\"Image tensor:\\n{img}\")\n",
        "print(f\"Image shape: {img.shape}\")\n",
        "print(f\"Image datatype: {img.dtype}\")\n",
        "print(f\"Image label: {label}\")\n",
        "print(f\"Label datatype: {type(label)}\")"
      ],
      "metadata": {
        "colab": {
          "base_uri": "https://localhost:8080/"
        },
        "id": "bKBEjwdtITAM",
        "outputId": "f474da3f-7c56-46b9-9291-0b4cb6253996"
      },
      "execution_count": 10,
      "outputs": [
        {
          "output_type": "stream",
          "name": "stdout",
          "text": [
            "Image tensor:\n",
            "tensor([[[-1., -1., -1.,  ..., -1., -1., -1.],\n",
            "         [-1., -1., -1.,  ..., -1., -1., -1.],\n",
            "         [-1., -1., -1.,  ..., -1., -1., -1.],\n",
            "         ...,\n",
            "         [-1., -1., -1.,  ..., -1., -1., -1.],\n",
            "         [-1., -1., -1.,  ..., -1., -1., -1.],\n",
            "         [-1., -1., -1.,  ..., -1., -1., -1.]]])\n",
            "Image shape: torch.Size([1, 64, 64])\n",
            "Image datatype: torch.float32\n",
            "Image label: 0\n",
            "Label datatype: <class 'int'>\n"
          ]
        }
      ]
    },
    {
      "cell_type": "code",
      "source": [
        "#transforms.ToPILImage()(img).show()"
      ],
      "metadata": {
        "colab": {
          "base_uri": "https://localhost:8080/",
          "height": 80
        },
        "id": "MDr6oNAgZ1MC",
        "outputId": "19860a1d-68e2-41e5-e9e7-6e299e6a0f25"
      },
      "execution_count": 317,
      "outputs": [
        {
          "output_type": "display_data",
          "data": {
            "text/plain": [
              "<PIL.Image.Image image mode=L size=64x64 at 0x7F549A5E15D0>"
            ],
            "image/png": "[encoded data removed]"
          },
          "metadata": {}
        }
      ]
    },
    {
      "cell_type": "code",
      "source": [
        "# Rearrange the order of dimensions\n",
        "img_permute = img.permute(1, 2, 0)\n",
        "\n",
        "# Print out different shapes (before and after permute)\n",
        "print(f\"Original shape: {img.shape} -> [color_channels, height, width]\")\n",
        "print(f\"Image permute shape: {img_permute.shape} -> [height, width, color_channels]\")\n",
        "\n",
        "# Plot the image\n",
        "plt.figure(figsize=(10, 7))\n",
        "plt.imshow(img.permute(1, 2, 0), cmap='gray')\n",
        "plt.axis(\"off\")\n",
        "plt.title(label, fontsize=14);"
      ],
      "metadata": {
        "colab": {
          "base_uri": "https://localhost:8080/",
          "height": 631
        },
        "id": "nlI_8g9pSe9M",
        "outputId": "5a9e2534-3454-4f3e-80cb-eb48af79e210"
      },
      "execution_count": 11,
      "outputs": [
        {
          "output_type": "stream",
          "name": "stdout",
          "text": [
            "Original shape: torch.Size([1, 64, 64]) -> [color_channels, height, width]\n",
            "Image permute shape: torch.Size([64, 64, 1]) -> [height, width, color_channels]\n"
          ]
        },
        {
          "output_type": "display_data",
          "data": {
            "text/plain": [
              "<Figure size 1000x700 with 1 Axes>"
            ],
            "image/png": "[encoded data removed]"
          },
          "metadata": {}
        }
      ]
    },
    {
      "cell_type": "markdown",
      "source": [
        "# PART 3: BUILDING AND TRAINING THE MODEL"
      ],
      "metadata": {
        "id": "ajP8munhFdCn"
      }
    },
    {
      "cell_type": "markdown",
      "source": [
        "## Building The Model"
      ],
      "metadata": {
        "id": "5crAVSqmmDX_"
      }
    },
    {
      "cell_type": "code",
      "source": [
        "device = \"cuda\" if torch.cuda.is_available() else \"cpu\"\n",
        "device"
      ],
      "metadata": {
        "colab": {
          "base_uri": "https://localhost:8080/",
          "height": 34
        },
        "id": "XKIE5XSxFu-b",
        "outputId": "0b5daa15-1a54-49f5-f97e-d7500ef87477"
      },
      "execution_count": 4,
      "outputs": [
        {
          "output_type": "execute_result",
          "data": {
            "text/plain": [
              "'cuda'"
            ],
            "application/vnd.google.colaboratory.intrinsic+json": {
              "type": "string"
            }
          },
          "metadata": {},
          "execution_count": 4
        }
      ]
    },
    {
      "cell_type": "code",
      "source": [
        "\n",
        "# Define the CNN model\n",
        "class ConvNet(nn.Module):\n",
        "    def __init__(self):\n",
        "        super(ConvNet, self).__init__()\n",
        "\n",
        "        # Convolutional layers\n",
        "        self.conv1 = nn.Conv2d(1, 16, kernel_size=3, stride=1, padding=1)\n",
        "        self.pool1 = nn.MaxPool2d(kernel_size=2, stride=2)\n",
        "        self.relu1 = nn.ReLU()\n",
        "\n",
        "        self.conv2 = nn.Conv2d(16, 32, kernel_size=3, stride=1, padding=1)\n",
        "        self.pool2 = nn.MaxPool2d(kernel_size=2, stride=2)\n",
        "        self.relu2 = nn.ReLU()\n",
        "\n",
        "        self.flatten=nn.Flatten()\n",
        "\n",
        "        # Fully connected layers\n",
        "        self.fc1 = nn.Linear(16 * 16 * 32, 10)\n",
        "\n",
        "\n",
        "    def forward(self, x):\n",
        "        x = self.conv1(x)\n",
        "        x = self.pool1(x)\n",
        "        x = self.relu1(x)\n",
        "\n",
        "        x = self.conv2(x)\n",
        "        x = self.pool2(x)\n",
        "        x = self.relu2(x)\n",
        "        x=self.flatten(x)\n",
        "\n",
        "        #x = x.view(x.size(0), -1) #alternative to flatten layers.\n",
        "                                  #remove is using nn.Flatten()\n",
        "        x = self.fc1(x)\n",
        "\n",
        "        return x\n",
        "\n",
        "# Create an instance of the ConvNet model\n",
        "model = ConvNet()\n",
        "\n",
        "model.to(device)\n",
        "# Print the model architecture\n",
        "print(model)\n",
        "\n",
        "\n"
      ],
      "metadata": {
        "colab": {
          "base_uri": "https://localhost:8080/"
        },
        "id": "5TRSikOh2Ugu",
        "outputId": "13269ba2-534f-43a9-b8e6-018ffa818604"
      },
      "execution_count": 19,
      "outputs": [
        {
          "output_type": "stream",
          "name": "stdout",
          "text": [
            "ConvNet(\n",
            "  (conv1): Conv2d(1, 16, kernel_size=(3, 3), stride=(1, 1), padding=(1, 1))\n",
            "  (pool1): MaxPool2d(kernel_size=2, stride=2, padding=0, dilation=1, ceil_mode=False)\n",
            "  (relu1): ReLU()\n",
            "  (conv2): Conv2d(16, 32, kernel_size=(3, 3), stride=(1, 1), padding=(1, 1))\n",
            "  (pool2): MaxPool2d(kernel_size=2, stride=2, padding=0, dilation=1, ceil_mode=False)\n",
            "  (relu2): ReLU()\n",
            "  (flatten): Flatten(start_dim=1, end_dim=-1)\n",
            "  (fc1): Linear(in_features=8192, out_features=10, bias=True)\n",
            ")\n"
          ]
        }
      ]
    },
    {
      "cell_type": "code",
      "source": [
        "next(model.parameters()).device"
      ],
      "metadata": {
        "colab": {
          "base_uri": "https://localhost:8080/"
        },
        "id": "ZnNZsiDYGbec",
        "outputId": "0fc06f78-35e1-4a21-b2af-bd89eae6efa0"
      },
      "execution_count": 47,
      "outputs": [
        {
          "output_type": "execute_result",
          "data": {
            "text/plain": [
              "device(type='cuda', index=0)"
            ]
          },
          "metadata": {},
          "execution_count": 47
        }
      ]
    },
    {
      "cell_type": "code",
      "source": [
        "# Setup loss function and optimizer\n",
        "loss_fn = nn.CrossEntropyLoss()\n",
        "optimizer = torch.optim.SGD(params=model.parameters(), lr=0.001)\n",
        "\n",
        "\n",
        "\n",
        "\n"
      ],
      "metadata": {
        "id": "VEKo15Z7H-Kb"
      },
      "execution_count": 48,
      "outputs": []
    },
    {
      "cell_type": "code",
      "source": [
        "#create a function to time experiments\n",
        "\n",
        "from timeit import default_timer as timer\n",
        "def print_train_time(start, end, device: torch.device = None):\n",
        "    \"\"\"Prints difference between start and end time.\n",
        "\n",
        "    Args:\n",
        "        start (float): Start time of computation (preferred in timeit format).\n",
        "        end (float): End time of computation.\n",
        "        device ([type], optional): Device that compute is running on. Defaults to None.\n",
        "\n",
        "    Returns:\n",
        "        float: time between start and end in seconds (higher is longer).\n",
        "    \"\"\"\n",
        "    total_time = end - start\n",
        "    print(f\"Train time on {device}: {total_time:.3f} seconds\")\n",
        "    return total_time"
      ],
      "metadata": {
        "id": "PcG2gHFAiOXN"
      },
      "execution_count": 49,
      "outputs": []
    },
    {
      "cell_type": "code",
      "source": [
        "# Calculate accuracy (a classification metric)\n",
        "def accuracy_fn(y_true, y_pred):\n",
        "    \"\"\"Calculates accuracy between truth labels and predictions.\n",
        "\n",
        "    Args:\n",
        "        y_true (torch.Tensor): Truth labels for predictions.\n",
        "        y_pred (torch.Tensor): Predictions to be compared to predictions.\n",
        "\n",
        "    Returns:\n",
        "        [torch.float]: Accuracy value between y_true and y_pred, e.g. 78.45\n",
        "    \"\"\"\n",
        "    correct = torch.eq(y_true, y_pred).sum().item()\n",
        "    acc = (correct / len(y_pred)) * 100\n",
        "    return acc\n"
      ],
      "metadata": {
        "id": "J4KJnBf_h_mR"
      },
      "execution_count": 50,
      "outputs": []
    },
    {
      "cell_type": "markdown",
      "source": [
        "#### 3.1 Training And Validation Loop"
      ],
      "metadata": {
        "id": "V56dHZYzjrPu"
      }
    },
    {
      "cell_type": "code",
      "source": [
        "device"
      ],
      "metadata": {
        "colab": {
          "base_uri": "https://localhost:8080/",
          "height": 34
        },
        "id": "LYrMEA3QFUTt",
        "outputId": "cb5c186f-45cb-4878-a010-470421e88ef1"
      },
      "execution_count": 51,
      "outputs": [
        {
          "output_type": "execute_result",
          "data": {
            "text/plain": [
              "'cuda'"
            ],
            "application/vnd.google.colaboratory.intrinsic+json": {
              "type": "string"
            }
          },
          "metadata": {},
          "execution_count": 51
        }
      ]
    },
    {
      "cell_type": "code",
      "source": [
        "# Import tqdm for progress bar\n",
        "from tqdm import tqdm\n",
        "\n",
        "# Set the seed and start the timer\n",
        "torch.manual_seed(42)\n",
        "train_time_start_on_cpu = timer()\n",
        "\n",
        "# Set the number of epochs (we'll keep this small for faster training times)\n",
        "epochs = 60\n",
        "\n",
        "train_loss_list=[] #list of training loss for plotting later\n",
        "test_loss_list=[] #list of validation loss for plotting later\n",
        "val_acc_list=[] #list of validation accuracy scores for plotting later\n",
        "train_acc_list=[] #list of training accuracy scores for plotting later.\n",
        "\n",
        "model.to(device)\n",
        "\n",
        "# Create training and validation loop\n",
        "for epoch in tqdm(range(epochs)):\n",
        "    print(f\"Epoch: {epoch}\\n-------\")\n",
        "    ### Training\n",
        "    train_loss = 0\n",
        "    train_acc = 0\n",
        "    # Add a loop to loop through training batches\n",
        "    for batch, (X, y) in enumerate(train_loader):\n",
        "        model.train()\n",
        "\n",
        "        X,y=X.to(device),y.to(device)\n",
        "\n",
        "        # 1. Forward pass\n",
        "        y_pred = model(X)\n",
        "        #print(y_pred,y)\n",
        "        # 2. Calculate loss (per batch)\n",
        "        loss = loss_fn(y_pred, y)\n",
        "\n",
        "        train_loss += loss # accumulatively add up the loss per epoch\n",
        "        train_acc += accuracy_fn(y_true=y,y_pred=y_pred.argmax(dim=1))\n",
        "                            #accuracy from prediction labels derived from argmax of logits.\n",
        "\n",
        "        # 3. Optimizer zero grad\n",
        "        optimizer.zero_grad()\n",
        "\n",
        "        # 4. Loss backward\n",
        "        loss.backward()\n",
        "\n",
        "        # 5. Optimizer step\n",
        "        optimizer.step()\n",
        "\n",
        "        # Print out how many samples have been seen\n",
        "        if batch % 100 == 0:\n",
        "            print(f\"Looked at {batch * len(X)}/{len(train_loader.dataset)} samples\")\n",
        "\n",
        "    # Divide total train loss by length of train dataloader (average loss per batch per epoch)\n",
        "    train_loss /= len(train_loader)\n",
        "\n",
        "    train_acc /= len(train_loader)\n",
        "\n",
        "    ### Testing\n",
        "    # Setup variables for accumulatively adding up loss and accuracy\n",
        "    test_loss, test_acc = 0, 0\n",
        "    model.eval()\n",
        "    with torch.inference_mode():\n",
        "        for X, y in val_loader:\n",
        "            X,y=X.to(device),y.to(device)\n",
        "\n",
        "            # 1. Forward pass\n",
        "            test_pred = model(X)\n",
        "\n",
        "            # 2. Calculate loss (accumatively)\n",
        "            test_loss += loss_fn(test_pred, y) # accumulatively add up the loss per epoch\n",
        "\n",
        "            # 3. Calculate accuracy (preds need to be same as y_true)\n",
        "            test_acc += accuracy_fn(y_true=y, y_pred=test_pred.argmax(dim=1))\n",
        "\n",
        "        # Calculations on test metrics need to happen inside torch.inference_mode()\n",
        "        # Divide total test loss by length of test dataloader (per batch)\n",
        "        test_loss /= len(val_loader)\n",
        "\n",
        "        # Divide total accuracy by length of test dataloader (per batch)\n",
        "        test_acc /= len(val_loader)\n",
        "\n",
        "    ## Print out what's happening\n",
        "    print(f\"\\nTrain loss: {train_loss:.5f} | Val loss: {test_loss:.5f},\\nTrain acc: {train_acc:.2f}% | Val acc: {test_acc:.2f}%\\n\")\n",
        "\n",
        "    train_loss_list.append(train_loss)\n",
        "    test_loss_list.append(test_loss)\n",
        "    val_acc_list.append(test_acc)\n",
        "    train_acc_list.append(train_acc)\n",
        "\n",
        "\n",
        "# Calculate training time\n",
        "train_time_end_on_cpu = timer()\n",
        "total_train_time_model_0 = print_train_time(start=train_time_start_on_cpu,\n",
        "                                           end=train_time_end_on_cpu,\n",
        "                                           device=str(next(model.parameters()).device))"
      ],
      "metadata": {
        "colab": {
          "base_uri": "https://localhost:8080/"
        },
        "id": "HiTwKMxmigVK",
        "outputId": "915f7009-eb65-44b2-b01d-1d039fb7f38f"
      },
      "execution_count": 52,
      "outputs": [
        {
          "output_type": "stream",
          "name": "stderr",
          "text": [
            "\r  0%|          | 0/60 [00:00<?, ?it/s]"
          ]
        },
        {
          "output_type": "stream",
          "name": "stdout",
          "text": [
            "Epoch: 0\n",
            "-------\n",
            "Looked at 0/7500 samples\n",
            "Looked at 3200/7500 samples\n",
            "Looked at 6400/7500 samples\n"
          ]
        },
        {
          "output_type": "stream",
          "name": "stderr",
          "text": [
            "\r  2%|▏         | 1/60 [00:15<15:25, 15.69s/it]"
          ]
        },
        {
          "output_type": "stream",
          "name": "stdout",
          "text": [
            "\n",
            "Train loss: 2.30417 | Val loss: 2.30422,\n",
            "Train acc: 10.08% | Val acc: 10.54%\n",
            "\n",
            "Epoch: 1\n",
            "-------\n",
            "Looked at 0/7500 samples\n",
            "Looked at 3200/7500 samples\n",
            "Looked at 6400/7500 samples\n"
          ]
        },
        {
          "output_type": "stream",
          "name": "stderr",
          "text": [
            "\r  3%|▎         | 2/60 [00:31<15:11, 15.71s/it]"
          ]
        },
        {
          "output_type": "stream",
          "name": "stdout",
          "text": [
            "\n",
            "Train loss: 2.30125 | Val loss: 2.30132,\n",
            "Train acc: 10.95% | Val acc: 9.91%\n",
            "\n",
            "Epoch: 2\n",
            "-------\n",
            "Looked at 0/7500 samples\n",
            "Looked at 3200/7500 samples\n",
            "Looked at 6400/7500 samples\n"
          ]
        },
        {
          "output_type": "stream",
          "name": "stderr",
          "text": [
            "\r  5%|▌         | 3/60 [00:46<14:42, 15.49s/it]"
          ]
        },
        {
          "output_type": "stream",
          "name": "stdout",
          "text": [
            "\n",
            "Train loss: 2.29815 | Val loss: 2.29972,\n",
            "Train acc: 12.31% | Val acc: 9.24%\n",
            "\n",
            "Epoch: 3\n",
            "-------\n",
            "Looked at 0/7500 samples\n",
            "Looked at 3200/7500 samples\n",
            "Looked at 6400/7500 samples\n"
          ]
        },
        {
          "output_type": "stream",
          "name": "stderr",
          "text": [
            "\r  7%|▋         | 4/60 [01:01<14:20, 15.37s/it]"
          ]
        },
        {
          "output_type": "stream",
          "name": "stdout",
          "text": [
            "\n",
            "Train loss: 2.29533 | Val loss: 2.29350,\n",
            "Train acc: 12.65% | Val acc: 16.73%\n",
            "\n",
            "Epoch: 4\n",
            "-------\n",
            "Looked at 0/7500 samples\n",
            "Looked at 3200/7500 samples\n",
            "Looked at 6400/7500 samples\n"
          ]
        },
        {
          "output_type": "stream",
          "name": "stderr",
          "text": [
            "\r  8%|▊         | 5/60 [01:16<13:57, 15.23s/it]"
          ]
        },
        {
          "output_type": "stream",
          "name": "stdout",
          "text": [
            "\n",
            "Train loss: 2.29173 | Val loss: 2.29128,\n",
            "Train acc: 15.62% | Val acc: 21.15%\n",
            "\n",
            "Epoch: 5\n",
            "-------\n",
            "Looked at 0/7500 samples\n",
            "Looked at 3200/7500 samples\n",
            "Looked at 6400/7500 samples\n"
          ]
        },
        {
          "output_type": "stream",
          "name": "stderr",
          "text": [
            "\r 10%|█         | 6/60 [01:31<13:35, 15.11s/it]"
          ]
        },
        {
          "output_type": "stream",
          "name": "stdout",
          "text": [
            "\n",
            "Train loss: 2.28709 | Val loss: 2.28622,\n",
            "Train acc: 18.66% | Val acc: 16.46%\n",
            "\n",
            "Epoch: 6\n",
            "-------\n",
            "Looked at 0/7500 samples\n",
            "Looked at 3200/7500 samples\n",
            "Looked at 6400/7500 samples\n"
          ]
        },
        {
          "output_type": "stream",
          "name": "stderr",
          "text": [
            "\r 12%|█▏        | 7/60 [01:46<13:19, 15.09s/it]"
          ]
        },
        {
          "output_type": "stream",
          "name": "stdout",
          "text": [
            "\n",
            "Train loss: 2.28217 | Val loss: 2.27919,\n",
            "Train acc: 22.19% | Val acc: 29.60%\n",
            "\n",
            "Epoch: 7\n",
            "-------\n",
            "Looked at 0/7500 samples\n",
            "Looked at 3200/7500 samples\n",
            "Looked at 6400/7500 samples\n"
          ]
        },
        {
          "output_type": "stream",
          "name": "stderr",
          "text": [
            "\r 13%|█▎        | 8/60 [02:01<13:02, 15.05s/it]"
          ]
        },
        {
          "output_type": "stream",
          "name": "stdout",
          "text": [
            "\n",
            "Train loss: 2.27593 | Val loss: 2.27532,\n",
            "Train acc: 27.90% | Val acc: 22.07%\n",
            "\n",
            "Epoch: 8\n",
            "-------\n",
            "Looked at 0/7500 samples\n",
            "Looked at 3200/7500 samples\n",
            "Looked at 6400/7500 samples\n"
          ]
        },
        {
          "output_type": "stream",
          "name": "stderr",
          "text": [
            "\r 15%|█▌        | 9/60 [02:16<12:47, 15.05s/it]"
          ]
        },
        {
          "output_type": "stream",
          "name": "stdout",
          "text": [
            "\n",
            "Train loss: 2.26913 | Val loss: 2.26787,\n",
            "Train acc: 27.85% | Val acc: 20.36%\n",
            "\n",
            "Epoch: 9\n",
            "-------\n",
            "Looked at 0/7500 samples\n",
            "Looked at 3200/7500 samples\n",
            "Looked at 6400/7500 samples\n"
          ]
        },
        {
          "output_type": "stream",
          "name": "stderr",
          "text": [
            "\r 17%|█▋        | 10/60 [02:31<12:34, 15.09s/it]"
          ]
        },
        {
          "output_type": "stream",
          "name": "stdout",
          "text": [
            "\n",
            "Train loss: 2.26159 | Val loss: 2.25839,\n",
            "Train acc: 32.77% | Val acc: 41.55%\n",
            "\n",
            "Epoch: 10\n",
            "-------\n",
            "Looked at 0/7500 samples\n",
            "Looked at 3200/7500 samples\n",
            "Looked at 6400/7500 samples\n"
          ]
        },
        {
          "output_type": "stream",
          "name": "stderr",
          "text": [
            "\r 18%|█▊        | 11/60 [02:46<12:17, 15.06s/it]"
          ]
        },
        {
          "output_type": "stream",
          "name": "stdout",
          "text": [
            "\n",
            "Train loss: 2.25178 | Val loss: 2.24770,\n",
            "Train acc: 34.65% | Val acc: 34.91%\n",
            "\n",
            "Epoch: 11\n",
            "-------\n",
            "Looked at 0/7500 samples\n",
            "Looked at 3200/7500 samples\n",
            "Looked at 6400/7500 samples\n"
          ]
        },
        {
          "output_type": "stream",
          "name": "stderr",
          "text": [
            "\r 20%|██        | 12/60 [03:02<12:04, 15.09s/it]"
          ]
        },
        {
          "output_type": "stream",
          "name": "stdout",
          "text": [
            "\n",
            "Train loss: 2.24019 | Val loss: 2.23513,\n",
            "Train acc: 37.05% | Val acc: 37.21%\n",
            "\n",
            "Epoch: 12\n",
            "-------\n",
            "Looked at 0/7500 samples\n",
            "Looked at 3200/7500 samples\n",
            "Looked at 6400/7500 samples\n"
          ]
        },
        {
          "output_type": "stream",
          "name": "stderr",
          "text": [
            "\r 22%|██▏       | 13/60 [03:17<11:49, 15.10s/it]"
          ]
        },
        {
          "output_type": "stream",
          "name": "stdout",
          "text": [
            "\n",
            "Train loss: 2.22541 | Val loss: 2.21914,\n",
            "Train acc: 38.50% | Val acc: 40.69%\n",
            "\n",
            "Epoch: 13\n",
            "-------\n",
            "Looked at 0/7500 samples\n",
            "Looked at 3200/7500 samples\n",
            "Looked at 6400/7500 samples\n"
          ]
        },
        {
          "output_type": "stream",
          "name": "stderr",
          "text": [
            "\r 23%|██▎       | 14/60 [03:32<11:34, 15.09s/it]"
          ]
        },
        {
          "output_type": "stream",
          "name": "stdout",
          "text": [
            "\n",
            "Train loss: 2.20797 | Val loss: 2.19946,\n",
            "Train acc: 40.89% | Val acc: 44.39%\n",
            "\n",
            "Epoch: 14\n",
            "-------\n",
            "Looked at 0/7500 samples\n",
            "Looked at 3200/7500 samples\n",
            "Looked at 6400/7500 samples\n"
          ]
        },
        {
          "output_type": "stream",
          "name": "stderr",
          "text": [
            "\r 25%|██▌       | 15/60 [03:47<11:17, 15.07s/it]"
          ]
        },
        {
          "output_type": "stream",
          "name": "stdout",
          "text": [
            "\n",
            "Train loss: 2.18491 | Val loss: 2.17345,\n",
            "Train acc: 42.88% | Val acc: 45.25%\n",
            "\n",
            "Epoch: 15\n",
            "-------\n",
            "Looked at 0/7500 samples\n",
            "Looked at 3200/7500 samples\n",
            "Looked at 6400/7500 samples\n"
          ]
        },
        {
          "output_type": "stream",
          "name": "stderr",
          "text": [
            "\r 27%|██▋       | 16/60 [04:03<11:15, 15.35s/it]"
          ]
        },
        {
          "output_type": "stream",
          "name": "stdout",
          "text": [
            "\n",
            "Train loss: 2.15464 | Val loss: 2.14011,\n",
            "Train acc: 44.03% | Val acc: 44.82%\n",
            "\n",
            "Epoch: 16\n",
            "-------\n",
            "Looked at 0/7500 samples\n",
            "Looked at 3200/7500 samples\n",
            "Looked at 6400/7500 samples\n"
          ]
        },
        {
          "output_type": "stream",
          "name": "stderr",
          "text": [
            "\r 28%|██▊       | 17/60 [04:18<10:55, 15.25s/it]"
          ]
        },
        {
          "output_type": "stream",
          "name": "stdout",
          "text": [
            "\n",
            "Train loss: 2.11955 | Val loss: 2.10228,\n",
            "Train acc: 45.70% | Val acc: 45.55%\n",
            "\n",
            "Epoch: 17\n",
            "-------\n",
            "Looked at 0/7500 samples\n",
            "Looked at 3200/7500 samples\n",
            "Looked at 6400/7500 samples\n"
          ]
        },
        {
          "output_type": "stream",
          "name": "stderr",
          "text": [
            "\r 30%|███       | 18/60 [04:33<10:36, 15.16s/it]"
          ]
        },
        {
          "output_type": "stream",
          "name": "stdout",
          "text": [
            "\n",
            "Train loss: 2.07672 | Val loss: 2.05990,\n",
            "Train acc: 45.96% | Val acc: 46.91%\n",
            "\n",
            "Epoch: 18\n",
            "-------\n",
            "Looked at 0/7500 samples\n",
            "Looked at 3200/7500 samples\n",
            "Looked at 6400/7500 samples\n"
          ]
        },
        {
          "output_type": "stream",
          "name": "stderr",
          "text": [
            "\r 32%|███▏      | 19/60 [04:48<10:19, 15.10s/it]"
          ]
        },
        {
          "output_type": "stream",
          "name": "stdout",
          "text": [
            "\n",
            "Train loss: 2.02563 | Val loss: 2.00115,\n",
            "Train acc: 48.37% | Val acc: 44.49%\n",
            "\n",
            "Epoch: 19\n",
            "-------\n",
            "Looked at 0/7500 samples\n",
            "Looked at 3200/7500 samples\n",
            "Looked at 6400/7500 samples\n"
          ]
        },
        {
          "output_type": "stream",
          "name": "stderr",
          "text": [
            "\r 33%|███▎      | 20/60 [05:03<10:02, 15.07s/it]"
          ]
        },
        {
          "output_type": "stream",
          "name": "stdout",
          "text": [
            "\n",
            "Train loss: 1.96598 | Val loss: 1.93683,\n",
            "Train acc: 48.44% | Val acc: 49.95%\n",
            "\n",
            "Epoch: 20\n",
            "-------\n",
            "Looked at 0/7500 samples\n",
            "Looked at 3200/7500 samples\n",
            "Looked at 6400/7500 samples\n"
          ]
        },
        {
          "output_type": "stream",
          "name": "stderr",
          "text": [
            "\r 35%|███▌      | 21/60 [05:18<09:46, 15.04s/it]"
          ]
        },
        {
          "output_type": "stream",
          "name": "stdout",
          "text": [
            "\n",
            "Train loss: 1.89754 | Val loss: 1.87176,\n",
            "Train acc: 50.32% | Val acc: 49.56%\n",
            "\n",
            "Epoch: 21\n",
            "-------\n",
            "Looked at 0/7500 samples\n",
            "Looked at 3200/7500 samples\n",
            "Looked at 6400/7500 samples\n"
          ]
        },
        {
          "output_type": "stream",
          "name": "stderr",
          "text": [
            "\r 37%|███▋      | 22/60 [05:32<09:27, 14.94s/it]"
          ]
        },
        {
          "output_type": "stream",
          "name": "stdout",
          "text": [
            "\n",
            "Train loss: 1.82383 | Val loss: 1.79721,\n",
            "Train acc: 51.69% | Val acc: 51.22%\n",
            "\n",
            "Epoch: 22\n",
            "-------\n",
            "Looked at 0/7500 samples\n",
            "Looked at 3200/7500 samples\n",
            "Looked at 6400/7500 samples\n"
          ]
        },
        {
          "output_type": "stream",
          "name": "stderr",
          "text": [
            "\r 38%|███▊      | 23/60 [05:47<09:11, 14.91s/it]"
          ]
        },
        {
          "output_type": "stream",
          "name": "stdout",
          "text": [
            "\n",
            "Train loss: 1.74735 | Val loss: 1.72050,\n",
            "Train acc: 53.38% | Val acc: 49.93%\n",
            "\n",
            "Epoch: 23\n",
            "-------\n",
            "Looked at 0/7500 samples\n",
            "Looked at 3200/7500 samples\n",
            "Looked at 6400/7500 samples\n"
          ]
        },
        {
          "output_type": "stream",
          "name": "stderr",
          "text": [
            "\r 40%|████      | 24/60 [06:02<08:56, 14.90s/it]"
          ]
        },
        {
          "output_type": "stream",
          "name": "stdout",
          "text": [
            "\n",
            "Train loss: 1.67192 | Val loss: 1.65333,\n",
            "Train acc: 54.27% | Val acc: 51.20%\n",
            "\n",
            "Epoch: 24\n",
            "-------\n",
            "Looked at 0/7500 samples\n",
            "Looked at 3200/7500 samples\n",
            "Looked at 6400/7500 samples\n"
          ]
        },
        {
          "output_type": "stream",
          "name": "stderr",
          "text": [
            "\r 42%|████▏     | 25/60 [06:17<08:44, 14.99s/it]"
          ]
        },
        {
          "output_type": "stream",
          "name": "stdout",
          "text": [
            "\n",
            "Train loss: 1.60146 | Val loss: 1.58002,\n",
            "Train acc: 55.32% | Val acc: 56.05%\n",
            "\n",
            "Epoch: 25\n",
            "-------\n",
            "Looked at 0/7500 samples\n",
            "Looked at 3200/7500 samples\n",
            "Looked at 6400/7500 samples\n"
          ]
        },
        {
          "output_type": "stream",
          "name": "stderr",
          "text": [
            "\r 43%|████▎     | 26/60 [06:33<08:32, 15.07s/it]"
          ]
        },
        {
          "output_type": "stream",
          "name": "stdout",
          "text": [
            "\n",
            "Train loss: 1.53514 | Val loss: 1.53327,\n",
            "Train acc: 56.76% | Val acc: 53.87%\n",
            "\n",
            "Epoch: 26\n",
            "-------\n",
            "Looked at 0/7500 samples\n",
            "Looked at 3200/7500 samples\n",
            "Looked at 6400/7500 samples\n"
          ]
        },
        {
          "output_type": "stream",
          "name": "stderr",
          "text": [
            "\r 45%|████▌     | 27/60 [06:48<08:16, 15.04s/it]"
          ]
        },
        {
          "output_type": "stream",
          "name": "stdout",
          "text": [
            "\n",
            "Train loss: 1.47626 | Val loss: 1.46398,\n",
            "Train acc: 57.88% | Val acc: 58.33%\n",
            "\n",
            "Epoch: 27\n",
            "-------\n",
            "Looked at 0/7500 samples\n",
            "Looked at 3200/7500 samples\n",
            "Looked at 6400/7500 samples\n"
          ]
        },
        {
          "output_type": "stream",
          "name": "stderr",
          "text": [
            "\r 47%|████▋     | 28/60 [07:03<08:02, 15.08s/it]"
          ]
        },
        {
          "output_type": "stream",
          "name": "stdout",
          "text": [
            "\n",
            "Train loss: 1.42391 | Val loss: 1.43755,\n",
            "Train acc: 58.46% | Val acc: 56.45%\n",
            "\n",
            "Epoch: 28\n",
            "-------\n",
            "Looked at 0/7500 samples\n",
            "Looked at 3200/7500 samples\n",
            "Looked at 6400/7500 samples\n"
          ]
        },
        {
          "output_type": "stream",
          "name": "stderr",
          "text": [
            "\r 48%|████▊     | 29/60 [07:18<07:46, 15.05s/it]"
          ]
        },
        {
          "output_type": "stream",
          "name": "stdout",
          "text": [
            "\n",
            "Train loss: 1.37994 | Val loss: 1.39828,\n",
            "Train acc: 59.61% | Val acc: 58.25%\n",
            "\n",
            "Epoch: 29\n",
            "-------\n",
            "Looked at 0/7500 samples\n",
            "Looked at 3200/7500 samples\n",
            "Looked at 6400/7500 samples\n"
          ]
        },
        {
          "output_type": "stream",
          "name": "stderr",
          "text": [
            "\r 50%|█████     | 30/60 [07:33<07:31, 15.04s/it]"
          ]
        },
        {
          "output_type": "stream",
          "name": "stdout",
          "text": [
            "\n",
            "Train loss: 1.33998 | Val loss: 1.36626,\n",
            "Train acc: 60.31% | Val acc: 57.17%\n",
            "\n",
            "Epoch: 30\n",
            "-------\n",
            "Looked at 0/7500 samples\n",
            "Looked at 3200/7500 samples\n",
            "Looked at 6400/7500 samples\n"
          ]
        },
        {
          "output_type": "stream",
          "name": "stderr",
          "text": [
            "\r 52%|█████▏    | 31/60 [07:48<07:20, 15.20s/it]"
          ]
        },
        {
          "output_type": "stream",
          "name": "stdout",
          "text": [
            "\n",
            "Train loss: 1.30742 | Val loss: 1.32530,\n",
            "Train acc: 60.95% | Val acc: 58.83%\n",
            "\n",
            "Epoch: 31\n",
            "-------\n",
            "Looked at 0/7500 samples\n",
            "Looked at 3200/7500 samples\n",
            "Looked at 6400/7500 samples\n"
          ]
        },
        {
          "output_type": "stream",
          "name": "stderr",
          "text": [
            "\r 53%|█████▎    | 32/60 [08:03<07:03, 15.13s/it]"
          ]
        },
        {
          "output_type": "stream",
          "name": "stdout",
          "text": [
            "\n",
            "Train loss: 1.27642 | Val loss: 1.33639,\n",
            "Train acc: 61.82% | Val acc: 57.13%\n",
            "\n",
            "Epoch: 32\n",
            "-------\n",
            "Looked at 0/7500 samples\n",
            "Looked at 3200/7500 samples\n",
            "Looked at 6400/7500 samples\n"
          ]
        },
        {
          "output_type": "stream",
          "name": "stderr",
          "text": [
            "\r 55%|█████▌    | 33/60 [08:18<06:48, 15.12s/it]"
          ]
        },
        {
          "output_type": "stream",
          "name": "stdout",
          "text": [
            "\n",
            "Train loss: 1.24864 | Val loss: 1.26654,\n",
            "Train acc: 62.29% | Val acc: 60.00%\n",
            "\n",
            "Epoch: 33\n",
            "-------\n",
            "Looked at 0/7500 samples\n",
            "Looked at 3200/7500 samples\n",
            "Looked at 6400/7500 samples\n"
          ]
        },
        {
          "output_type": "stream",
          "name": "stderr",
          "text": [
            "\r 57%|█████▋    | 34/60 [08:33<06:30, 15.04s/it]"
          ]
        },
        {
          "output_type": "stream",
          "name": "stdout",
          "text": [
            "\n",
            "Train loss: 1.22107 | Val loss: 1.25316,\n",
            "Train acc: 63.18% | Val acc: 61.25%\n",
            "\n",
            "Epoch: 34\n",
            "-------\n",
            "Looked at 0/7500 samples\n",
            "Looked at 3200/7500 samples\n",
            "Looked at 6400/7500 samples\n"
          ]
        },
        {
          "output_type": "stream",
          "name": "stderr",
          "text": [
            "\r 58%|█████▊    | 35/60 [08:48<06:15, 15.04s/it]"
          ]
        },
        {
          "output_type": "stream",
          "name": "stdout",
          "text": [
            "\n",
            "Train loss: 1.19690 | Val loss: 1.21936,\n",
            "Train acc: 64.00% | Val acc: 62.63%\n",
            "\n",
            "Epoch: 35\n",
            "-------\n",
            "Looked at 0/7500 samples\n",
            "Looked at 3200/7500 samples\n",
            "Looked at 6400/7500 samples\n"
          ]
        },
        {
          "output_type": "stream",
          "name": "stderr",
          "text": [
            "\r 60%|██████    | 36/60 [09:04<06:03, 15.13s/it]"
          ]
        },
        {
          "output_type": "stream",
          "name": "stdout",
          "text": [
            "\n",
            "Train loss: 1.17607 | Val loss: 1.21537,\n",
            "Train acc: 64.21% | Val acc: 62.01%\n",
            "\n",
            "Epoch: 36\n",
            "-------\n",
            "Looked at 0/7500 samples\n",
            "Looked at 3200/7500 samples\n",
            "Looked at 6400/7500 samples\n"
          ]
        },
        {
          "output_type": "stream",
          "name": "stderr",
          "text": [
            "\r 62%|██████▏   | 37/60 [09:19<05:48, 15.17s/it]"
          ]
        },
        {
          "output_type": "stream",
          "name": "stdout",
          "text": [
            "\n",
            "Train loss: 1.15716 | Val loss: 1.20465,\n",
            "Train acc: 64.61% | Val acc: 61.94%\n",
            "\n",
            "Epoch: 37\n",
            "-------\n",
            "Looked at 0/7500 samples\n",
            "Looked at 3200/7500 samples\n",
            "Looked at 6400/7500 samples\n"
          ]
        },
        {
          "output_type": "stream",
          "name": "stderr",
          "text": [
            "\r 63%|██████▎   | 38/60 [09:34<05:32, 15.12s/it]"
          ]
        },
        {
          "output_type": "stream",
          "name": "stdout",
          "text": [
            "\n",
            "Train loss: 1.13892 | Val loss: 1.19145,\n",
            "Train acc: 65.39% | Val acc: 63.16%\n",
            "\n",
            "Epoch: 38\n",
            "-------\n",
            "Looked at 0/7500 samples\n",
            "Looked at 3200/7500 samples\n",
            "Looked at 6400/7500 samples\n"
          ]
        },
        {
          "output_type": "stream",
          "name": "stderr",
          "text": [
            "\r 65%|██████▌   | 39/60 [09:55<05:53, 16.85s/it]"
          ]
        },
        {
          "output_type": "stream",
          "name": "stdout",
          "text": [
            "\n",
            "Train loss: 1.12060 | Val loss: 1.16552,\n",
            "Train acc: 65.83% | Val acc: 64.49%\n",
            "\n",
            "Epoch: 39\n",
            "-------\n",
            "Looked at 0/7500 samples\n",
            "Looked at 3200/7500 samples\n",
            "Looked at 6400/7500 samples\n"
          ]
        },
        {
          "output_type": "stream",
          "name": "stderr",
          "text": [
            "\r 67%|██████▋   | 40/60 [10:10<05:26, 16.32s/it]"
          ]
        },
        {
          "output_type": "stream",
          "name": "stdout",
          "text": [
            "\n",
            "Train loss: 1.10455 | Val loss: 1.15190,\n",
            "Train acc: 66.13% | Val acc: 64.77%\n",
            "\n",
            "Epoch: 40\n",
            "-------\n",
            "Looked at 0/7500 samples\n",
            "Looked at 3200/7500 samples\n",
            "Looked at 6400/7500 samples\n"
          ]
        },
        {
          "output_type": "stream",
          "name": "stderr",
          "text": [
            "\r 68%|██████▊   | 41/60 [10:25<05:01, 15.89s/it]"
          ]
        },
        {
          "output_type": "stream",
          "name": "stdout",
          "text": [
            "\n",
            "Train loss: 1.08891 | Val loss: 1.14592,\n",
            "Train acc: 66.67% | Val acc: 65.09%\n",
            "\n",
            "Epoch: 41\n",
            "-------\n",
            "Looked at 0/7500 samples\n",
            "Looked at 3200/7500 samples\n",
            "Looked at 6400/7500 samples\n"
          ]
        },
        {
          "output_type": "stream",
          "name": "stderr",
          "text": [
            "\r 70%|███████   | 42/60 [10:40<04:41, 15.62s/it]"
          ]
        },
        {
          "output_type": "stream",
          "name": "stdout",
          "text": [
            "\n",
            "Train loss: 1.07690 | Val loss: 1.15494,\n",
            "Train acc: 66.77% | Val acc: 64.43%\n",
            "\n",
            "Epoch: 42\n",
            "-------\n",
            "Looked at 0/7500 samples\n",
            "Looked at 3200/7500 samples\n",
            "Looked at 6400/7500 samples\n"
          ]
        },
        {
          "output_type": "stream",
          "name": "stderr",
          "text": [
            "\r 72%|███████▏  | 43/60 [10:55<04:21, 15.38s/it]"
          ]
        },
        {
          "output_type": "stream",
          "name": "stdout",
          "text": [
            "\n",
            "Train loss: 1.05959 | Val loss: 1.10987,\n",
            "Train acc: 67.47% | Val acc: 66.60%\n",
            "\n",
            "Epoch: 43\n",
            "-------\n",
            "Looked at 0/7500 samples\n",
            "Looked at 3200/7500 samples\n",
            "Looked at 6400/7500 samples\n"
          ]
        },
        {
          "output_type": "stream",
          "name": "stderr",
          "text": [
            "\r 73%|███████▎  | 44/60 [11:09<04:03, 15.25s/it]"
          ]
        },
        {
          "output_type": "stream",
          "name": "stdout",
          "text": [
            "\n",
            "Train loss: 1.04711 | Val loss: 1.10029,\n",
            "Train acc: 68.09% | Val acc: 66.95%\n",
            "\n",
            "Epoch: 44\n",
            "-------\n",
            "Looked at 0/7500 samples\n",
            "Looked at 3200/7500 samples\n",
            "Looked at 6400/7500 samples\n"
          ]
        },
        {
          "output_type": "stream",
          "name": "stderr",
          "text": [
            "\r 75%|███████▌  | 45/60 [11:27<03:58, 15.91s/it]"
          ]
        },
        {
          "output_type": "stream",
          "name": "stdout",
          "text": [
            "\n",
            "Train loss: 1.03542 | Val loss: 1.10070,\n",
            "Train acc: 68.12% | Val acc: 66.55%\n",
            "\n",
            "Epoch: 45\n",
            "-------\n",
            "Looked at 0/7500 samples\n",
            "Looked at 3200/7500 samples\n",
            "Looked at 6400/7500 samples\n"
          ]
        },
        {
          "output_type": "stream",
          "name": "stderr",
          "text": [
            "\r 77%|███████▋  | 46/60 [11:43<03:42, 15.91s/it]"
          ]
        },
        {
          "output_type": "stream",
          "name": "stdout",
          "text": [
            "\n",
            "Train loss: 1.02066 | Val loss: 1.07757,\n",
            "Train acc: 68.29% | Val acc: 66.29%\n",
            "\n",
            "Epoch: 46\n",
            "-------\n",
            "Looked at 0/7500 samples\n",
            "Looked at 3200/7500 samples\n",
            "Looked at 6400/7500 samples\n"
          ]
        },
        {
          "output_type": "stream",
          "name": "stderr",
          "text": [
            "\r 78%|███████▊  | 47/60 [11:58<03:25, 15.78s/it]"
          ]
        },
        {
          "output_type": "stream",
          "name": "stdout",
          "text": [
            "\n",
            "Train loss: 1.00987 | Val loss: 1.06136,\n",
            "Train acc: 69.07% | Val acc: 67.48%\n",
            "\n",
            "Epoch: 47\n",
            "-------\n",
            "Looked at 0/7500 samples\n",
            "Looked at 3200/7500 samples\n",
            "Looked at 6400/7500 samples\n"
          ]
        },
        {
          "output_type": "stream",
          "name": "stderr",
          "text": [
            "\r 80%|████████  | 48/60 [12:16<03:16, 16.41s/it]"
          ]
        },
        {
          "output_type": "stream",
          "name": "stdout",
          "text": [
            "\n",
            "Train loss: 0.99574 | Val loss: 1.05782,\n",
            "Train acc: 69.45% | Val acc: 68.08%\n",
            "\n",
            "Epoch: 48\n",
            "-------\n",
            "Looked at 0/7500 samples\n",
            "Looked at 3200/7500 samples\n",
            "Looked at 6400/7500 samples\n"
          ]
        },
        {
          "output_type": "stream",
          "name": "stderr",
          "text": [
            "\r 82%|████████▏ | 49/60 [12:33<03:02, 16.62s/it]"
          ]
        },
        {
          "output_type": "stream",
          "name": "stdout",
          "text": [
            "\n",
            "Train loss: 0.98319 | Val loss: 1.04366,\n",
            "Train acc: 70.23% | Val acc: 68.67%\n",
            "\n",
            "Epoch: 49\n",
            "-------\n",
            "Looked at 0/7500 samples\n",
            "Looked at 3200/7500 samples\n",
            "Looked at 6400/7500 samples\n"
          ]
        },
        {
          "output_type": "stream",
          "name": "stderr",
          "text": [
            "\r 83%|████████▎ | 50/60 [12:50<02:46, 16.61s/it]"
          ]
        },
        {
          "output_type": "stream",
          "name": "stdout",
          "text": [
            "\n",
            "Train loss: 0.96852 | Val loss: 1.03906,\n",
            "Train acc: 70.23% | Val acc: 68.00%\n",
            "\n",
            "Epoch: 50\n",
            "-------\n",
            "Looked at 0/7500 samples\n",
            "Looked at 3200/7500 samples\n",
            "Looked at 6400/7500 samples\n"
          ]
        },
        {
          "output_type": "stream",
          "name": "stderr",
          "text": [
            "\r 85%|████████▌ | 51/60 [13:05<02:24, 16.09s/it]"
          ]
        },
        {
          "output_type": "stream",
          "name": "stdout",
          "text": [
            "\n",
            "Train loss: 0.95853 | Val loss: 1.02983,\n",
            "Train acc: 70.36% | Val acc: 68.60%\n",
            "\n",
            "Epoch: 51\n",
            "-------\n",
            "Looked at 0/7500 samples\n",
            "Looked at 3200/7500 samples\n",
            "Looked at 6400/7500 samples\n"
          ]
        },
        {
          "output_type": "stream",
          "name": "stderr",
          "text": [
            "\r 87%|████████▋ | 52/60 [13:20<02:05, 15.72s/it]"
          ]
        },
        {
          "output_type": "stream",
          "name": "stdout",
          "text": [
            "\n",
            "Train loss: 0.94601 | Val loss: 1.01242,\n",
            "Train acc: 70.91% | Val acc: 69.73%\n",
            "\n",
            "Epoch: 52\n",
            "-------\n",
            "Looked at 0/7500 samples\n",
            "Looked at 3200/7500 samples\n",
            "Looked at 6400/7500 samples\n"
          ]
        },
        {
          "output_type": "stream",
          "name": "stderr",
          "text": [
            "\r 88%|████████▊ | 53/60 [13:34<01:48, 15.46s/it]"
          ]
        },
        {
          "output_type": "stream",
          "name": "stdout",
          "text": [
            "\n",
            "Train loss: 0.93207 | Val loss: 0.99821,\n",
            "Train acc: 71.22% | Val acc: 70.00%\n",
            "\n",
            "Epoch: 53\n",
            "-------\n",
            "Looked at 0/7500 samples\n",
            "Looked at 3200/7500 samples\n",
            "Looked at 6400/7500 samples\n"
          ]
        },
        {
          "output_type": "stream",
          "name": "stderr",
          "text": [
            "\r 90%|█████████ | 54/60 [13:49<01:31, 15.27s/it]"
          ]
        },
        {
          "output_type": "stream",
          "name": "stdout",
          "text": [
            "\n",
            "Train loss: 0.92367 | Val loss: 0.98397,\n",
            "Train acc: 71.94% | Val acc: 70.93%\n",
            "\n",
            "Epoch: 54\n",
            "-------\n",
            "Looked at 0/7500 samples\n",
            "Looked at 3200/7500 samples\n",
            "Looked at 6400/7500 samples\n"
          ]
        },
        {
          "output_type": "stream",
          "name": "stderr",
          "text": [
            "\r 92%|█████████▏| 55/60 [14:04<01:15, 15.15s/it]"
          ]
        },
        {
          "output_type": "stream",
          "name": "stdout",
          "text": [
            "\n",
            "Train loss: 0.90884 | Val loss: 1.00012,\n",
            "Train acc: 71.99% | Val acc: 70.28%\n",
            "\n",
            "Epoch: 55\n",
            "-------\n",
            "Looked at 0/7500 samples\n",
            "Looked at 3200/7500 samples\n",
            "Looked at 6400/7500 samples\n"
          ]
        },
        {
          "output_type": "stream",
          "name": "stderr",
          "text": [
            "\r 93%|█████████▎| 56/60 [14:19<01:00, 15.09s/it]"
          ]
        },
        {
          "output_type": "stream",
          "name": "stdout",
          "text": [
            "\n",
            "Train loss: 0.89340 | Val loss: 0.96080,\n",
            "Train acc: 72.80% | Val acc: 70.80%\n",
            "\n",
            "Epoch: 56\n",
            "-------\n",
            "Looked at 0/7500 samples\n",
            "Looked at 3200/7500 samples\n",
            "Looked at 6400/7500 samples\n"
          ]
        },
        {
          "output_type": "stream",
          "name": "stderr",
          "text": [
            "\r 95%|█████████▌| 57/60 [14:34<00:45, 15.16s/it]"
          ]
        },
        {
          "output_type": "stream",
          "name": "stdout",
          "text": [
            "\n",
            "Train loss: 0.88233 | Val loss: 0.95832,\n",
            "Train acc: 73.17% | Val acc: 71.35%\n",
            "\n",
            "Epoch: 57\n",
            "-------\n",
            "Looked at 0/7500 samples\n",
            "Looked at 3200/7500 samples\n",
            "Looked at 6400/7500 samples\n"
          ]
        },
        {
          "output_type": "stream",
          "name": "stderr",
          "text": [
            "\r 97%|█████████▋| 58/60 [14:49<00:30, 15.09s/it]"
          ]
        },
        {
          "output_type": "stream",
          "name": "stdout",
          "text": [
            "\n",
            "Train loss: 0.87136 | Val loss: 0.93910,\n",
            "Train acc: 73.58% | Val acc: 72.06%\n",
            "\n",
            "Epoch: 58\n",
            "-------\n",
            "Looked at 0/7500 samples\n",
            "Looked at 3200/7500 samples\n",
            "Looked at 6400/7500 samples\n"
          ]
        },
        {
          "output_type": "stream",
          "name": "stderr",
          "text": [
            "\r 98%|█████████▊| 59/60 [15:05<00:15, 15.17s/it]"
          ]
        },
        {
          "output_type": "stream",
          "name": "stdout",
          "text": [
            "\n",
            "Train loss: 0.85592 | Val loss: 0.93187,\n",
            "Train acc: 74.13% | Val acc: 71.73%\n",
            "\n",
            "Epoch: 59\n",
            "-------\n",
            "Looked at 0/7500 samples\n",
            "Looked at 3200/7500 samples\n",
            "Looked at 6400/7500 samples\n"
          ]
        },
        {
          "output_type": "stream",
          "name": "stderr",
          "text": [
            "100%|██████████| 60/60 [15:20<00:00, 15.33s/it]"
          ]
        },
        {
          "output_type": "stream",
          "name": "stdout",
          "text": [
            "\n",
            "Train loss: 0.84312 | Val loss: 0.91775,\n",
            "Train acc: 74.37% | Val acc: 72.13%\n",
            "\n",
            "Train time on cuda:0: 920.102 seconds\n"
          ]
        },
        {
          "output_type": "stream",
          "name": "stderr",
          "text": [
            "\n"
          ]
        }
      ]
    },
    {
      "cell_type": "markdown",
      "source": [
        "### 3.2 Accuracy And Loss Graphs"
      ],
      "metadata": {
        "id": "izxi1NVueFAl"
      }
    },
    {
      "cell_type": "code",
      "source": [
        "def save_plots(train_acc, valid_acc, train_loss, valid_loss):\n",
        "    \"\"\"\n",
        "    Function to save the loss and accuracy plots to disk.\n",
        "    \"\"\"\n",
        "    # accuracy plots\n",
        "    plt.figure(figsize=(10, 7))\n",
        "    plt.plot(\n",
        "        train_acc, color='green', linestyle='-',\n",
        "        label='train accuracy'\n",
        "    )\n",
        "    plt.plot(\n",
        "        valid_acc, color='blue', linestyle='-',\n",
        "        label='validation accuracy'\n",
        "    )\n",
        "    plt.xlabel('Epochs')\n",
        "    plt.ylabel('Accuracy')\n",
        "    plt.legend()\n",
        "    plt.savefig(root_dir+'accuracy.png')\n",
        "\n",
        "    # loss plots\n",
        "    plt.figure(figsize=(10, 7))\n",
        "    plt.plot(\n",
        "        train_loss, color='orange', linestyle='-',\n",
        "        label='train loss'\n",
        "    )\n",
        "    plt.plot(\n",
        "        valid_loss, color='red', linestyle='-',\n",
        "        label='validation loss'\n",
        "    )\n",
        "    plt.xlabel('Epochs')\n",
        "    plt.ylabel('Loss')\n",
        "    plt.legend()\n",
        "    plt.savefig(root_dir+'loss.png')"
      ],
      "metadata": {
        "id": "n1HykpPFRjUB"
      },
      "execution_count": 63,
      "outputs": []
    },
    {
      "cell_type": "code",
      "source": [
        "save_plots(train_acc_list,\n",
        "           val_acc_list,\n",
        "           [i.to('cpu').detach().numpy() for i in train_loss_list],\n",
        "           [i.to('cpu').detach().numpy() for i in test_loss_list])"
      ],
      "metadata": {
        "colab": {
          "base_uri": "https://localhost:8080/",
          "height": 1000
        },
        "id": "jPbMcPz9XSN1",
        "outputId": "90b5352a-6322-4d75-ba30-7bc6632ecc79"
      },
      "execution_count": 64,
      "outputs": [
        {
          "output_type": "display_data",
          "data": {
            "text/plain": [
              "<Figure size 1000x700 with 1 Axes>"
            ],
            "image/png": "[encoded data removed]"
          },
          "metadata": {}
        },
        {
          "output_type": "display_data",
          "data": {
            "text/plain": [
              "<Figure size 1000x700 with 1 Axes>"
            ],
            "image/png": "[encoded data removed]"
          },
          "metadata": {}
        }
      ]
    },
    {
      "cell_type": "markdown",
      "source": [
        "### 3.3 Saving The Model"
      ],
      "metadata": {
        "id": "oGAKrbb8eNfg"
      }
    },
    {
      "cell_type": "code",
      "source": [
        "def save_model(epochs, model, optimizer, loss_fn):\n",
        "    \"\"\"\n",
        "    Function to save the trained model to disk.\n",
        "    \"\"\"\n",
        "    torch.save({\n",
        "                'epoch': epochs,\n",
        "                'model_state_dict': model.state_dict(),\n",
        "                'optimizer_state_dict': optimizer.state_dict(),\n",
        "                'loss': loss_fn,\n",
        "                },\n",
        "               root_dir+'model.pth')\n",
        "\n",
        "\n",
        "save_model(epochs, model, optimizer, loss_fn)"
      ],
      "metadata": {
        "id": "DiRxNdaC9Wvw"
      },
      "execution_count": 57,
      "outputs": []
    },
    {
      "cell_type": "markdown",
      "source": [
        "#PART4 : MAKING INFERENCES FROM THE MODEL"
      ],
      "metadata": {
        "id": "8gwaDD8TFknB"
      }
    },
    {
      "cell_type": "markdown",
      "source": [
        "### 4.1 Loading The Model"
      ],
      "metadata": {
        "id": "J9wlP4kmY10f"
      }
    },
    {
      "cell_type": "code",
      "source": [
        "#The CNN model\n",
        "class ConvNet(nn.Module):\n",
        "    def __init__(self):\n",
        "        super(ConvNet, self).__init__()\n",
        "\n",
        "        # Convolutional layers\n",
        "        self.conv1 = nn.Conv2d(1, 16, kernel_size=3, stride=1, padding=1)\n",
        "        self.pool1 = nn.MaxPool2d(kernel_size=2, stride=2)\n",
        "        self.relu1 = nn.ReLU()\n",
        "\n",
        "        self.conv2 = nn.Conv2d(16, 32, kernel_size=3, stride=1, padding=1)\n",
        "        self.pool2 = nn.MaxPool2d(kernel_size=2, stride=2)\n",
        "        self.relu2 = nn.ReLU()\n",
        "\n",
        "        self.flatten=nn.Flatten()\n",
        "\n",
        "        # Fully connected layers\n",
        "        self.fc1 = nn.Linear(16 * 16 * 32, 10)\n",
        "\n",
        "\n",
        "    def forward(self, x):\n",
        "        x = self.conv1(x)\n",
        "        x = self.pool1(x)\n",
        "        x = self.relu1(x)\n",
        "\n",
        "        x = self.conv2(x)\n",
        "        x = self.pool2(x)\n",
        "        x = self.relu2(x)\n",
        "        x=self.flatten(x)\n",
        "\n",
        "        #x = x.view(x.size(0), -1) #alternative to flatten layers.\n",
        "                                  #remove is using nn.Flatten()\n",
        "        x = self.fc1(x)\n",
        "\n",
        "        return x"
      ],
      "metadata": {
        "id": "AwsBY7t4gZrf"
      },
      "execution_count": 28,
      "outputs": []
    },
    {
      "cell_type": "code",
      "source": [
        "# Load your model\n",
        "model = ConvNet()\n",
        "#model.load_state_dict(torch.load(root_dir+'model.pth'))\n",
        "\n",
        "model.load_state_dict(torch.load(root_dir+'model.pth')['model_state_dict'])\n",
        "model.to(device)"
      ],
      "metadata": {
        "colab": {
          "base_uri": "https://localhost:8080/"
        },
        "id": "rzhSF4pbY9SC",
        "outputId": "11ff7fc9-b4b5-4a4a-8929-d2fd968d6fa7"
      },
      "execution_count": 37,
      "outputs": [
        {
          "output_type": "execute_result",
          "data": {
            "text/plain": [
              "ConvNet(\n",
              "  (conv1): Conv2d(1, 16, kernel_size=(3, 3), stride=(1, 1), padding=(1, 1))\n",
              "  (pool1): MaxPool2d(kernel_size=2, stride=2, padding=0, dilation=1, ceil_mode=False)\n",
              "  (relu1): ReLU()\n",
              "  (conv2): Conv2d(16, 32, kernel_size=(3, 3), stride=(1, 1), padding=(1, 1))\n",
              "  (pool2): MaxPool2d(kernel_size=2, stride=2, padding=0, dilation=1, ceil_mode=False)\n",
              "  (relu2): ReLU()\n",
              "  (flatten): Flatten(start_dim=1, end_dim=-1)\n",
              "  (fc1): Linear(in_features=8192, out_features=10, bias=True)\n",
              ")"
            ]
          },
          "metadata": {},
          "execution_count": 37
        }
      ]
    },
    {
      "cell_type": "markdown",
      "source": [
        "### 4.2 Making Predictions On Unseen Test Set"
      ],
      "metadata": {
        "id": "m8hoMSACeRvG"
      }
    },
    {
      "cell_type": "code",
      "source": [
        "# This code below is to illustrate how Pytorch Dataset creates index to match the folder labels\n",
        "\n",
        "# classLst=['one','two','three','four','five','six','seven','eight','nine']\n",
        "# classLst.sort()\n",
        "# classLst\n"
      ],
      "metadata": {
        "colab": {
          "base_uri": "https://localhost:8080/"
        },
        "id": "RKUHhk3PsUX5",
        "outputId": "c525a03c-a5fd-473b-dbb5-1d1cb80e69b2"
      },
      "execution_count": 80,
      "outputs": [
        {
          "output_type": "execute_result",
          "data": {
            "text/plain": [
              "['eight', 'five', 'four', 'nine', 'one', 'seven', 'six', 'three', 'two']"
            ]
          },
          "metadata": {},
          "execution_count": 80
        }
      ]
    },
    {
      "cell_type": "code",
      "source": [
        "def loadTestFiles(testFolderPath):\n",
        "  \"\"\"Extract and return list of file paths in list form\n",
        "\n",
        "    Args:\n",
        "        testFolderPath (str): User input the full path to test folder.\n",
        "\n",
        "    Returns:\n",
        "        list: list of image file paths for each test image.\n",
        "    \"\"\"\n",
        "\n",
        "  fileNames_test=[str(each) for each in Path(testFolderPath).iterdir()]\n",
        "  return fileNames_test\n",
        "\n",
        "testFolderPath=root_dir+'modelData/test/'\n",
        "\n",
        "test_data=loadTestFiles(testFolderPath)\n",
        "print(f'Number Of Test Data Available :{len(test_data)}')"
      ],
      "metadata": {
        "colab": {
          "base_uri": "https://localhost:8080/"
        },
        "id": "raZYVIOSR14R",
        "outputId": "c07525e5-f05a-4fe2-b31d-e1038e3bcf44"
      },
      "execution_count": 38,
      "outputs": [
        {
          "output_type": "stream",
          "name": "stdout",
          "text": [
            "Number Of Test Data Available :1000\n"
          ]
        }
      ]
    },
    {
      "cell_type": "code",
      "source": [
        "#classtoIdxMatch={'eight': 0, 'five': 1, 'four': 2, 'nine': 3, 'one': 4, 'seven': 5, 'six': 6, 'three': 7, 'two': 8, 'zero': 9}\n",
        "\n",
        "classtoIdxMatch={8: 0, 5: 1, 4: 2, 9: 3, 1: 4, 7: 5, 6: 6, 3: 7, 2: 8, 0: 9} #{Actual_value:pred_label}\n",
        "\n",
        "\n",
        "transform = transforms.Compose([\n",
        "    #transforms.Resize((224, 224)),  # Resize the images to a specific size\n",
        "    transforms.Grayscale(),\n",
        "    transforms.ToTensor(),  # Convert images to tensors\n",
        "    transforms.Normalize(mean=(0.5,), std=(0.5,))  # Normalize the image tensors\n",
        "    #transforms.Normalize(mean=[0.5, 0.5, 0.5], std=[0.5, 0.5, 0.5])  # Normalize the image tensors\n",
        "])\n",
        "\n",
        "\n",
        "#Load the test dataset\n",
        "# test_dataset = torchvision.datasets.ImageFolder(\n",
        "#     root=root_dir+'modelData/test/',\n",
        "#     transform=transform\n",
        "# )\n",
        "\n",
        "\n",
        "def calTestAccuracy(test_data):\n",
        "  \"\"\"calculate the accuracy for unseen test data.\n",
        "\n",
        "    Args:\n",
        "        test_data (list): list of file paths for relevant images.\n",
        "        folderName (str): folder name required to create.\n",
        "\n",
        "    Returns:\n",
        "        None.\n",
        "  \"\"\"\n",
        "\n",
        "\n",
        "  model.eval()\n",
        "  accuratePredict_count=0\n",
        "  totalPredictions=len(test_data)\n",
        "  pred_result=[]\n",
        "  target_result=[]\n",
        "  with torch.inference_mode():\n",
        "      for i in tqdm(test_data):\n",
        "        code=i.split('/')[-1].split('.')[0].split('_')[-1]\n",
        "        #print(code)\n",
        "        # read and preprocess the image\n",
        "        image=Image.open(i)\n",
        "\n",
        "        # convert to Grayscale format\n",
        "        image=ImageOps.grayscale(image)\n",
        "\n",
        "        sample=transform(image)\n",
        "        sample = torch.unsqueeze(sample, dim=0).to(device)\n",
        "\n",
        "        pred_logit=model(sample)\n",
        "        y_pred=pred_logit.argmax(dim=1)\n",
        "        #print(code, y_pred)\n",
        "\n",
        "        #get key from value in dictionary\n",
        "        y_pred_key = list(filter(lambda x: classtoIdxMatch[x] == y_pred, classtoIdxMatch))[0]\n",
        "        #print(y_pred_key, int(code)-1)\n",
        "        if int(y_pred_key)==(int(code)-1):\n",
        "          #print('Match')\n",
        "          accuratePredict_count+=1\n",
        "        pred_result.append(int(y_pred_key))\n",
        "        target_result.append((int(code)-1))\n",
        "  print(f'Total Test Samples :{len(test_data)}')\n",
        "  print(f'\\nTest Accuracy :{100*accuratePredict_count/totalPredictions:.2f}%')\n",
        "  return pred_result,target_result\n",
        "\n",
        "predictedLabel,targetLabel= calTestAccuracy(test_data)\n"
      ],
      "metadata": {
        "colab": {
          "base_uri": "https://localhost:8080/"
        },
        "id": "yx9geOMjlfio",
        "outputId": "88ef6cd5-4164-4a83-957d-79476d20e4c7"
      },
      "execution_count": 39,
      "outputs": [
        {
          "output_type": "stream",
          "name": "stderr",
          "text": [
            "100%|██████████| 1000/1000 [00:27<00:00, 36.50it/s]"
          ]
        },
        {
          "output_type": "stream",
          "name": "stdout",
          "text": [
            "Total Test Samples :1000\n",
            "\n",
            "Test Accuracy :75.70%\n"
          ]
        },
        {
          "output_type": "stream",
          "name": "stderr",
          "text": [
            "\n"
          ]
        }
      ]
    },
    {
      "cell_type": "code",
      "source": [
        "# print(predictedLabel[:10])\n",
        "# print(targetLabel[:10])"
      ],
      "metadata": {
        "colab": {
          "base_uri": "https://localhost:8080/"
        },
        "id": "xr_FIQhZ2zjG",
        "outputId": "210cd0b4-975e-4e6b-848f-23052a129d10"
      },
      "execution_count": 101,
      "outputs": [
        {
          "output_type": "stream",
          "name": "stdout",
          "text": [
            "[5, 2, 0, 3, 1, 5, 9, 4, 5, 9]\n",
            "[5, 3, 0, 3, 3, 5, 9, 4, 5, 9]\n"
          ]
        }
      ]
    },
    {
      "cell_type": "markdown",
      "source": [
        "### 4.3 Confusion Matrix Of Test Set"
      ],
      "metadata": {
        "id": "NL4PYJAR3iF0"
      }
    },
    {
      "cell_type": "code",
      "source": [
        "from sklearn.metrics import confusion_matrix, ConfusionMatrixDisplay\n",
        "\n",
        "cm = confusion_matrix(targetLabel, predictedLabel, labels=[0,1,2,3,4,5,6,7,8,9])\n",
        "disp = ConfusionMatrixDisplay(confusion_matrix=cm,display_labels=[0,1,2,3,4,5,6,7,8,9])\n",
        "disp.plot()"
      ],
      "metadata": {
        "colab": {
          "base_uri": "https://localhost:8080/",
          "height": 464
        },
        "id": "YrMH5-W02YS3",
        "outputId": "a343478b-6725-4b40-9596-de40ee0d44cc"
      },
      "execution_count": 40,
      "outputs": [
        {
          "output_type": "execute_result",
          "data": {
            "text/plain": [
              "<sklearn.metrics._plot.confusion_matrix.ConfusionMatrixDisplay at 0x7f1eacf9af50>"
            ]
          },
          "metadata": {},
          "execution_count": 40
        },
        {
          "output_type": "display_data",
          "data": {
            "text/plain": [
              "<Figure size 640x480 with 2 Axes>"
            ],
            "image/png": "[encoded data removed]"
          },
          "metadata": {}
        }
      ]
    },
    {
      "cell_type": "code",
      "source": [
        "from sklearn.metrics import classification_report\n",
        "\n",
        "print(classification_report(targetLabel, predictedLabel, target_names=['0','1','2','3','4','5','6','7','8','9']))"
      ],
      "metadata": {
        "colab": {
          "base_uri": "https://localhost:8080/"
        },
        "id": "C7QsSoPb363C",
        "outputId": "86eeb84d-988b-47b7-a8b2-93e166ebca10"
      },
      "execution_count": 41,
      "outputs": [
        {
          "output_type": "stream",
          "name": "stdout",
          "text": [
            "              precision    recall  f1-score   support\n",
            "\n",
            "           0       0.90      0.92      0.91        99\n",
            "           1       0.66      0.91      0.76        86\n",
            "           2       0.55      0.62      0.58        91\n",
            "           3       0.79      0.68      0.73       104\n",
            "           4       0.88      0.74      0.81        98\n",
            "           5       0.78      0.73      0.75        95\n",
            "           6       0.79      0.65      0.72       110\n",
            "           7       0.72      0.79      0.75       120\n",
            "           8       0.81      0.80      0.80        85\n",
            "           9       0.76      0.75      0.76       112\n",
            "\n",
            "    accuracy                           0.76      1000\n",
            "   macro avg       0.76      0.76      0.76      1000\n",
            "weighted avg       0.77      0.76      0.76      1000\n",
            "\n"
          ]
        }
      ]
    },
    {
      "cell_type": "code",
      "source": [
        "from sklearn import metrics\n",
        "from sklearn.metrics import roc_auc_score\n",
        "from sklearn import preprocessing\n",
        "\n",
        "y=targetLabel\n",
        "pred=predictedLabel\n",
        "lb = preprocessing.LabelBinarizer()\n",
        "target=lb.fit_transform(targetLabel)\n",
        "predicted=lb.transform(predictedLabel)\n",
        "\n",
        "\n",
        "\n",
        "print(f\"ROC_AUC Score: {roc_auc_score(target, predicted, multi_class='ovr'):.2f}\")\n"
      ],
      "metadata": {
        "colab": {
          "base_uri": "https://localhost:8080/"
        },
        "id": "r6uTVCK5Rc0m",
        "outputId": "525b94f2-0cdc-41b1-e80c-2f51374c8f99"
      },
      "execution_count": 59,
      "outputs": [
        {
          "output_type": "stream",
          "name": "stdout",
          "text": [
            "ROC_AUC Score: 0.87\n"
          ]
        }
      ]
    },
    {
      "cell_type": "markdown",
      "source": [
        "# PART 5 : OTHERS"
      ],
      "metadata": {
        "id": "cfudr4sqRn6J"
      }
    },
    {
      "cell_type": "markdown",
      "source": [
        "## Export Requirements.txt"
      ],
      "metadata": {
        "id": "QNNfsE5kRvDw"
      }
    },
    {
      "cell_type": "code",
      "source": [
        "!pip list --format=freeze > requirements.txt"
      ],
      "metadata": {
        "id": "A4wtuvRms-ah"
      },
      "execution_count": 2,
      "outputs": []
    },
    {
      "cell_type": "code",
      "source": [],
      "metadata": {
        "id": "6hB_UUs_R3sw"
      },
      "execution_count": null,
      "outputs": []
    }
  ]
}